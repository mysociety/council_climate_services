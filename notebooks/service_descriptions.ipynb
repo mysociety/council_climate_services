{
 "cells": [
  {
   "cell_type": "code",
   "execution_count": 26,
   "metadata": {},
   "outputs": [],
   "source": [
    "# HIDE\n",
    "try:\n",
    "    import setup\n",
    "except:\n",
    "    pass\n",
    "from notebook_helper import *\n",
    "\n",
    "notebook_setup()"
   ]
  },
  {
   "cell_type": "markdown",
   "metadata": {},
   "source": [
    "# Emissions-reduction related services\n",
    "\n",
    "Rough breakdown of local government services (as defined in [ESD standard](https://standards.esd.org.uk/?uri=list)) for England and Wales that have some relation to emissions reduction.\n",
    "\n",
    "These services are then categorized into:\n",
    "\n",
    "* Services/Direct - services councils do and direct actions they take\n",
    "* Regulation/Data - How councils shape what others can do and information they gather to inform this activity\n",
    "* Place-making - Wider plan and strategic powers that have some relevance to emissions reductions.\n",
    "\n",
    "This dataset has a `draft` status, not all relevant services may be included, not all services included may be relevant, and catagories may not be entirely correct. \n",
    "\n",
    "The raw dataset is in `data\\emissions-related-services.csv`. "
   ]
  },
  {
   "cell_type": "code",
   "execution_count": 31,
   "metadata": {},
   "outputs": [
    {
     "data": {
      "text/html": [
       "<style  type=\"text/css\" >\n",
       "</style><table id=\"T_61c46_\" ><thead>    <tr>        <th class=\"col_heading level0 col0\" >types</th>        <th class=\"col_heading level0 col1\" >Identifier</th>    </tr></thead><tbody>\n",
       "                <tr>\n",
       "                                <td id=\"T_61c46_row0_col0\" class=\"data row0 col0\" >Placemaking</td>\n",
       "                        <td id=\"T_61c46_row0_col1\" class=\"data row0 col1\" >80</td>\n",
       "            </tr>\n",
       "            <tr>\n",
       "                                <td id=\"T_61c46_row1_col0\" class=\"data row1 col0\" >Regulation/Data</td>\n",
       "                        <td id=\"T_61c46_row1_col1\" class=\"data row1 col1\" >71</td>\n",
       "            </tr>\n",
       "            <tr>\n",
       "                                <td id=\"T_61c46_row2_col0\" class=\"data row2 col0\" >Services/Direct</td>\n",
       "                        <td id=\"T_61c46_row2_col1\" class=\"data row2 col1\" >96</td>\n",
       "            </tr>\n",
       "    </tbody></table>"
      ],
      "text/plain": [
       "<pandas.io.formats.style.Styler at 0x7f089e2dd850>"
      ]
     },
     "execution_count": 31,
     "metadata": {},
     "output_type": "execute_result"
    }
   ],
   "source": [
    "service_types = [\"Services/Direct\", \"Regulation/Data\", \"Placemaking\"]\n",
    "\n",
    "\n",
    "def get_types(row: pd.Series) -> list:\n",
    "    return [x for x in service_types if row[x] == 1]\n",
    "\n",
    "df = (\n",
    "    pd.read_csv(Path(\"data\", \"emissions-related-services.csv\"))\n",
    "    .fillna(0)\n",
    "    .assign(types=lambda df: df.apply(get_types, axis=\"columns\"))\n",
    ")\n",
    "\n",
    "overall = (\n",
    "    df.explode(\"types\")\n",
    "    .pivot_table(\"Identifier\", index=\"types\", aggfunc=\"count\")\n",
    "    .reset_index()\n",
    "    .style.hide_index()\n",
    ")\n",
    "\n",
    "overall\n"
   ]
  },
  {
   "cell_type": "markdown",
   "metadata": {},
   "source": [
    "# List of services by type"
   ]
  },
  {
   "cell_type": "code",
   "execution_count": 36,
   "metadata": {},
   "outputs": [
    {
     "data": {
      "text/markdown": [
       "## Services/Direct"
      ],
      "text/plain": [
       "<IPython.core.display.Markdown object>"
      ]
     },
     "metadata": {},
     "output_type": "display_data"
    },
    {
     "data": {
      "text/markdown": [
       "### Abandoned shopping trolleys"
      ],
      "text/plain": [
       "<IPython.core.display.Markdown object>"
      ]
     },
     "metadata": {},
     "output_type": "display_data"
    },
    {
     "data": {
      "text/markdown": [
       "Abandoned shopping trolleys have a negative impact on the quality of the local environment and can be hazardous to pedestrians, cyclists and road users.  Local Authorities are permitted to seize, store and dispose of abandoned shopping trolleys within their area. (Services/Direct)"
      ],
      "text/plain": [
       "<IPython.core.display.Markdown object>"
      ]
     },
     "metadata": {},
     "output_type": "display_data"
    },
    {
     "data": {
      "text/markdown": [
       "### Abandoned vehicles"
      ],
      "text/plain": [
       "<IPython.core.display.Markdown object>"
      ]
     },
     "metadata": {},
     "output_type": "display_data"
    },
    {
     "data": {
      "text/markdown": [
       "The local council will deal with any vehicles reported as abandoned on local roads or property (usually including private property). The vehicle will be removed. (Services/Direct)"
      ],
      "text/plain": [
       "<IPython.core.display.Markdown object>"
      ]
     },
     "metadata": {},
     "output_type": "display_data"
    },
    {
     "data": {
      "text/markdown": [
       "### Bridge strengthening"
      ],
      "text/plain": [
       "<IPython.core.display.Markdown object>"
      ]
     },
     "metadata": {},
     "output_type": "display_data"
    },
    {
     "data": {
      "text/markdown": [
       "Work carried out under the strengthening programme gives priority to principal road bridges. For substandard bridges on the non-principal road network, decisions are made whether to permanently weight restrict rather than strengthen. (Services/Direct)"
      ],
      "text/plain": [
       "<IPython.core.display.Markdown object>"
      ]
     },
     "metadata": {},
     "output_type": "display_data"
    },
    {
     "data": {
      "text/markdown": [
       "### Building control enforcement"
      ],
      "text/plain": [
       "<IPython.core.display.Markdown object>"
      ]
     },
     "metadata": {},
     "output_type": "display_data"
    },
    {
     "data": {
      "text/markdown": [
       "Building control enforcement is a formal procedure available to Local Authorities which enables them to ensure that building work complies with the national Building Regulations. (Services/Direct)"
      ],
      "text/plain": [
       "<IPython.core.display.Markdown object>"
      ]
     },
     "metadata": {},
     "output_type": "display_data"
    },
    {
     "data": {
      "text/markdown": [
       "### Bulky household waste collections"
      ],
      "text/plain": [
       "<IPython.core.display.Markdown object>"
      ]
     },
     "metadata": {},
     "output_type": "display_data"
    },
    {
     "data": {
      "text/markdown": [
       "Arrangements for special collections for large items such as furniture or items with special disposal requirements (e.g. refrigerators, tyres).  The householder can usually book this service in advance and there may be a charge for the collection (Services/Direct)"
      ],
      "text/plain": [
       "<IPython.core.display.Markdown object>"
      ]
     },
     "metadata": {},
     "output_type": "display_data"
    },
    {
     "data": {
      "text/markdown": [
       "### Bus lanes and routes"
      ],
      "text/plain": [
       "<IPython.core.display.Markdown object>"
      ]
     },
     "metadata": {},
     "output_type": "display_data"
    },
    {
     "data": {
      "text/markdown": [
       "Provision of lanes on bus routes which are typically restricted to use by buses, coaches and taxis.  Operating days and times may vary according to location. (Services/Direct)"
      ],
      "text/plain": [
       "<IPython.core.display.Markdown object>"
      ]
     },
     "metadata": {},
     "output_type": "display_data"
    },
    {
     "data": {
      "text/markdown": [
       "### Bus passes for disabled or older people"
      ],
      "text/plain": [
       "<IPython.core.display.Markdown object>"
      ]
     },
     "metadata": {},
     "output_type": "display_data"
    },
    {
     "data": {
      "text/markdown": [
       "A bus pass (or other travel concession) is available to local citizens if they are aged 60 and over, they are physically disabled, they have a learning difficulty or they would be refused a driving licence. Eligibility is automatic if the applicant is already in receipt of other services as a result of their age/disability. (Services/Direct)"
      ],
      "text/plain": [
       "<IPython.core.display.Markdown object>"
      ]
     },
     "metadata": {},
     "output_type": "display_data"
    },
    {
     "data": {
      "text/markdown": [
       "### Bus stops and shelters"
      ],
      "text/plain": [
       "<IPython.core.display.Markdown object>"
      ]
     },
     "metadata": {},
     "output_type": "display_data"
    },
    {
     "data": {
      "text/markdown": [
       "The local authority offers advice concerning the positioning of bus stop signs and bus shelters.  The provision and maintenance of bus shelters is normally the responsibility of the local transport authority. (Services/Direct)"
      ],
      "text/plain": [
       "<IPython.core.display.Markdown object>"
      ]
     },
     "metadata": {},
     "output_type": "display_data"
    },
    {
     "data": {
      "text/markdown": [
       "### Canals and waterways"
      ],
      "text/plain": [
       "<IPython.core.display.Markdown object>"
      ]
     },
     "metadata": {},
     "output_type": "display_data"
    },
    {
     "data": {
      "text/markdown": [
       "Provision and maintenance of inland waterways. \r\n",
       "In the UK inland waterways are owned and managed by a variety of authorities.  Most commonly it is British Waterways but some local authorities have responsibility for the maintenance of canals running through their area. (Services/Direct)"
      ],
      "text/plain": [
       "<IPython.core.display.Markdown object>"
      ]
     },
     "metadata": {},
     "output_type": "display_data"
    },
    {
     "data": {
      "text/markdown": [
       "### Civil emergencies - flooding"
      ],
      "text/plain": [
       "<IPython.core.display.Markdown object>"
      ]
     },
     "metadata": {},
     "output_type": "display_data"
    },
    {
     "data": {
      "text/markdown": [
       "Providing advice and information on what to do in the event of a flood.  The council may also provide equipment such as sandbags and engineering advice to help residents/businesses in the event of flooding. (Services/Direct)"
      ],
      "text/plain": [
       "<IPython.core.display.Markdown object>"
      ]
     },
     "metadata": {},
     "output_type": "display_data"
    },
    {
     "data": {
      "text/markdown": [
       "### Clinical household waste"
      ],
      "text/plain": [
       "<IPython.core.display.Markdown object>"
      ]
     },
     "metadata": {},
     "output_type": "display_data"
    },
    {
     "data": {
      "text/markdown": [
       "Collection and safe disposal of household clinical waste. This includes items such as surgical waste, used syringes, drugs and pharmaceuticals. (Services/Direct)"
      ],
      "text/plain": [
       "<IPython.core.display.Markdown object>"
      ]
     },
     "metadata": {},
     "output_type": "display_data"
    },
    {
     "data": {
      "text/markdown": [
       "### Coastal protection"
      ],
      "text/plain": [
       "<IPython.core.display.Markdown object>"
      ]
     },
     "metadata": {},
     "output_type": "display_data"
    },
    {
     "data": {
      "text/markdown": [
       "Review and maintenance of coastal protection (sea walls etc.) within the local authority area. (Services/Direct)"
      ],
      "text/plain": [
       "<IPython.core.display.Markdown object>"
      ]
     },
     "metadata": {},
     "output_type": "display_data"
    },
    {
     "data": {
      "text/markdown": [
       "### Commercial  clinical waste disposal"
      ],
      "text/plain": [
       "<IPython.core.display.Markdown object>"
      ]
     },
     "metadata": {},
     "output_type": "display_data"
    },
    {
     "data": {
      "text/markdown": [
       "Collection and safe disposal of clinical waste. This includes items such as surgical waste, used syringes, drugs and pharmaceuticals. (Services/Direct)"
      ],
      "text/plain": [
       "<IPython.core.display.Markdown object>"
      ]
     },
     "metadata": {},
     "output_type": "display_data"
    },
    {
     "data": {
      "text/markdown": [
       "### Commercial waste bins"
      ],
      "text/plain": [
       "<IPython.core.display.Markdown object>"
      ]
     },
     "metadata": {},
     "output_type": "display_data"
    },
    {
     "data": {
      "text/markdown": [
       "Provision of bins for the collection of trade waste.  Bins are usually offered in a variety of sizes to suit the requirements of all local businesses.  Charges are determined by the number and size of bins required. (Services/Direct)"
      ],
      "text/plain": [
       "<IPython.core.display.Markdown object>"
      ]
     },
     "metadata": {},
     "output_type": "display_data"
    },
    {
     "data": {
      "text/markdown": [
       "### Commercial waste collection"
      ],
      "text/plain": [
       "<IPython.core.display.Markdown object>"
      ]
     },
     "metadata": {},
     "output_type": "display_data"
    },
    {
     "data": {
      "text/markdown": [
       "Provision of a regular commercial trade waste collection from local businesses. Businesses are required to provide a written description of their waste and ensure that it is packed in suitable containers. (Services/Direct)"
      ],
      "text/plain": [
       "<IPython.core.display.Markdown object>"
      ]
     },
     "metadata": {},
     "output_type": "display_data"
    },
    {
     "data": {
      "text/markdown": [
       "### Commercial waste disposal sites"
      ],
      "text/plain": [
       "<IPython.core.display.Markdown object>"
      ]
     },
     "metadata": {},
     "output_type": "display_data"
    },
    {
     "data": {
      "text/markdown": [
       "Disposal of commercial waste is the responsibility of the business owner.  The local authority may provide sites which business may use (for a fee) to dispose of their waste.  If available the authority will publish details of the location, opening times, terms and conditions of use and charges for the use of the sites. (Services/Direct)"
      ],
      "text/plain": [
       "<IPython.core.display.Markdown object>"
      ]
     },
     "metadata": {},
     "output_type": "display_data"
    },
    {
     "data": {
      "text/markdown": [
       "### Commercial waste special collections"
      ],
      "text/plain": [
       "<IPython.core.display.Markdown object>"
      ]
     },
     "metadata": {},
     "output_type": "display_data"
    },
    {
     "data": {
      "text/markdown": [
       "Any waste generated by a commercial organisation is the responsibility of the organisation to dispose of correctly. Advice on how to dispose of waste may be given by the council (including details of local organisations who offer waste collection services). The council may also provide a service which can arrange for special collections of large amounts of waste, bulky materials or confidential waste from commercial premises for a fee. (Services/Direct)"
      ],
      "text/plain": [
       "<IPython.core.display.Markdown object>"
      ]
     },
     "metadata": {},
     "output_type": "display_data"
    },
    {
     "data": {
      "text/markdown": [
       "### Commercial waste spillage"
      ],
      "text/plain": [
       "<IPython.core.display.Markdown object>"
      ]
     },
     "metadata": {},
     "output_type": "display_data"
    },
    {
     "data": {
      "text/markdown": [
       "The Council will deal with reports of spillages of commercial waste.  Commercial customers are able to use either the service provided by the Local Authority or private contractor. Enforcement of appropriate regulations in respect of waste containment is the responsibility of the council. (Services/Direct)"
      ],
      "text/plain": [
       "<IPython.core.display.Markdown object>"
      ]
     },
     "metadata": {},
     "output_type": "display_data"
    },
    {
     "data": {
      "text/markdown": [
       "### Communal heating charge"
      ],
      "text/plain": [
       "<IPython.core.display.Markdown object>"
      ]
     },
     "metadata": {},
     "output_type": "display_data"
    },
    {
     "data": {
      "text/markdown": [
       "Communal heating charges for council properties are divided among all residents on an estate, the proportion is added to their rent account. (Services/Direct)"
      ],
      "text/plain": [
       "<IPython.core.display.Markdown object>"
      ]
     },
     "metadata": {},
     "output_type": "display_data"
    },
    {
     "data": {
      "text/markdown": [
       "### Communal housing repairs"
      ],
      "text/plain": [
       "<IPython.core.display.Markdown object>"
      ]
     },
     "metadata": {},
     "output_type": "display_data"
    },
    {
     "data": {
      "text/markdown": [
       "The local authority deals with repairs to communal areas within council accommodation such as communal lighting in a block of flats, or the communal drainpipes to a block of garages. (Services/Direct)"
      ],
      "text/plain": [
       "<IPython.core.display.Markdown object>"
      ]
     },
     "metadata": {},
     "output_type": "display_data"
    },
    {
     "data": {
      "text/markdown": [
       "### Composters"
      ],
      "text/plain": [
       "<IPython.core.display.Markdown object>"
      ]
     },
     "metadata": {},
     "output_type": "display_data"
    },
    {
     "data": {
      "text/markdown": [
       "Provision of composters for recycling garden waste.  These may be available to local residents free of charge or for purchase at a subsidised rate. (Services/Direct)"
      ],
      "text/plain": [
       "<IPython.core.display.Markdown object>"
      ]
     },
     "metadata": {},
     "output_type": "display_data"
    },
    {
     "data": {
      "text/markdown": [
       "### Cooling tower registration"
      ],
      "text/plain": [
       "<IPython.core.display.Markdown object>"
      ]
     },
     "metadata": {},
     "output_type": "display_data"
    },
    {
     "data": {
      "text/markdown": [
       "All premises where cooling towers and evaporative condensers are situated must register with the local authority. (Services/Direct)"
      ],
      "text/plain": [
       "<IPython.core.display.Markdown object>"
      ]
     },
     "metadata": {},
     "output_type": "display_data"
    },
    {
     "data": {
      "text/markdown": [
       "### Council home modernisation"
      ],
      "text/plain": [
       "<IPython.core.display.Markdown object>"
      ]
     },
     "metadata": {},
     "output_type": "display_data"
    },
    {
     "data": {
      "text/markdown": [
       "Improvements to local authority owned and run properties to bring them up to current acceptable living standards. The improvements should include double-glazed windows, replacement kitchens and bathrooms, updated heating systems. \r\n",
       "All Councils have been set a target of raising the standard of all its properties by the year 2010 by the Government in England and Wales or by 2015 by the Scottish Executive in Scotland . (Services/Direct)"
      ],
      "text/plain": [
       "<IPython.core.display.Markdown object>"
      ]
     },
     "metadata": {},
     "output_type": "display_data"
    },
    {
     "data": {
      "text/markdown": [
       "### Cycle and motorcycle parking"
      ],
      "text/plain": [
       "<IPython.core.display.Markdown object>"
      ]
     },
     "metadata": {},
     "output_type": "display_data"
    },
    {
     "data": {
      "text/markdown": [
       "Provision of stands and racks for parking cycles and motorcycles (Services/Direct)"
      ],
      "text/plain": [
       "<IPython.core.display.Markdown object>"
      ]
     },
     "metadata": {},
     "output_type": "display_data"
    },
    {
     "data": {
      "text/markdown": [
       "### Cycle hire"
      ],
      "text/plain": [
       "<IPython.core.display.Markdown object>"
      ]
     },
     "metadata": {},
     "output_type": "display_data"
    },
    {
     "data": {
      "text/markdown": [
       "The municipal authority hires out bicycles and/or makes bicycles available for free. (Services/Direct)"
      ],
      "text/plain": [
       "<IPython.core.display.Markdown object>"
      ]
     },
     "metadata": {},
     "output_type": "display_data"
    },
    {
     "data": {
      "text/markdown": [
       "### Cycle lanes and routes"
      ],
      "text/plain": [
       "<IPython.core.display.Markdown object>"
      ]
     },
     "metadata": {},
     "output_type": "display_data"
    },
    {
     "data": {
      "text/markdown": [
       "Provision for cycle routes on the carriageway, on footways either shared with or segregated from pedestrians, or specially designated cycle paths. (Services/Direct)"
      ],
      "text/plain": [
       "<IPython.core.display.Markdown object>"
      ]
     },
     "metadata": {},
     "output_type": "display_data"
    },
    {
     "data": {
      "text/markdown": [
       "### Cycle training"
      ],
      "text/plain": [
       "<IPython.core.display.Markdown object>"
      ]
     },
     "metadata": {},
     "output_type": "display_data"
    },
    {
     "data": {
      "text/markdown": [
       "Provision of training for those who are new to cycling. Many local authorities run cycle training schemes for children in local schools; some may also provide training for adults, either directly or working with independent instructors.  Cycle training is co-ordinated in England by Cycling England, a partnership body set up by several government departments. It administers 'Bikeability', the National Standard for Cycle Training, and provides resources to support training initiatives. In Scotland a similar scheme is operated by Cycling Scotland. (Services/Direct)"
      ],
      "text/plain": [
       "<IPython.core.display.Markdown object>"
      ]
     },
     "metadata": {},
     "output_type": "display_data"
    },
    {
     "data": {
      "text/markdown": [
       "### Demand responsive transport"
      ],
      "text/plain": [
       "<IPython.core.display.Markdown object>"
      ]
     },
     "metadata": {},
     "output_type": "display_data"
    },
    {
     "data": {
      "text/markdown": [
       "Provision of on demand transport services for local citizens usually available in areas not covered by main public transport routes. (Services/Direct)"
      ],
      "text/plain": [
       "<IPython.core.display.Markdown object>"
      ]
     },
     "metadata": {},
     "output_type": "display_data"
    },
    {
     "data": {
      "text/markdown": [
       "### Drainage"
      ],
      "text/plain": [
       "<IPython.core.display.Markdown object>"
      ]
     },
     "metadata": {},
     "output_type": "display_data"
    },
    {
     "data": {
      "text/markdown": [
       "The local authority provides help and advice on highway drainage, land drainage or private drainage and may arrange for clearance of a blocked drain. (Services/Direct)"
      ],
      "text/plain": [
       "<IPython.core.display.Markdown object>"
      ]
     },
     "metadata": {},
     "output_type": "display_data"
    },
    {
     "data": {
      "text/markdown": [
       "### Energy efficiency"
      ],
      "text/plain": [
       "<IPython.core.display.Markdown object>"
      ]
     },
     "metadata": {},
     "output_type": "display_data"
    },
    {
     "data": {
      "text/markdown": [
       "The council will provide advice on energy efficiency and carry out an assessment of a property. \r\n",
       "In the UK the SAP is the Government's recommended system for energy rating of dwellings. The Standard Assessment Procedure is used for calculating the SAP rating, on a scale from 1 to 120, based on the annual energy costs for space and water heating and also for calculating the Carbon Index, on a scale of 0.0 to 10.0, based on the annual CO2 emissions associated with space and water heating. The SAP rating is used to fulfil requirements of the Building Regulations to notify and display an energy rating in new dwellings. (Services/Direct)"
      ],
      "text/plain": [
       "<IPython.core.display.Markdown object>"
      ]
     },
     "metadata": {},
     "output_type": "display_data"
    },
    {
     "data": {
      "text/markdown": [
       "### Environmental policy"
      ],
      "text/plain": [
       "<IPython.core.display.Markdown object>"
      ]
     },
     "metadata": {},
     "output_type": "display_data"
    },
    {
     "data": {
      "text/markdown": [
       "The local authority is committed to sustainable development through its local UN agenda 21 process in which it continuously improves its services, policies and practices to contribute to a better quality of life. \r\n",
       "In the UK Agenda 21 covers social progress, environmental protection, use of natural resources and economic growth. (Services/Direct, Placemaking)"
      ],
      "text/plain": [
       "<IPython.core.display.Markdown object>"
      ]
     },
     "metadata": {},
     "output_type": "display_data"
    },
    {
     "data": {
      "text/markdown": [
       "### Estate parking"
      ],
      "text/plain": [
       "<IPython.core.display.Markdown object>"
      ]
     },
     "metadata": {},
     "output_type": "display_data"
    },
    {
     "data": {
      "text/markdown": [
       "The local authority is responsible for determining parking regulations (residents and visitor parking) on council property and for enforcement of those regulations. (Services/Direct)"
      ],
      "text/plain": [
       "<IPython.core.display.Markdown object>"
      ]
     },
     "metadata": {},
     "output_type": "display_data"
    },
    {
     "data": {
      "text/markdown": [
       "### Estates management"
      ],
      "text/plain": [
       "<IPython.core.display.Markdown object>"
      ]
     },
     "metadata": {},
     "output_type": "display_data"
    },
    {
     "data": {
      "text/markdown": [
       "The council provides an estates management service for land and property in the area.  Services provided include sales, lettings, acquisitions, property management, asset valuations, insurance valuations, professional property advice. (Services/Direct)"
      ],
      "text/plain": [
       "<IPython.core.display.Markdown object>"
      ]
     },
     "metadata": {},
     "output_type": "display_data"
    },
    {
     "data": {
      "text/markdown": [
       "### Exhaust emission testing"
      ],
      "text/plain": [
       "<IPython.core.display.Markdown object>"
      ]
     },
     "metadata": {},
     "output_type": "display_data"
    },
    {
     "data": {
      "text/markdown": [
       "A local authority may carry out roadside vehicle emission checks in an effort to reduce pollution from road traffic.  All vehicles which are stopped will be tested to see if their vehicle is emitting pollutants above the legal standard.  Drivers of vehicles which fail the test may have to pay a fine. (Services/Direct)"
      ],
      "text/plain": [
       "<IPython.core.display.Markdown object>"
      ]
     },
     "metadata": {},
     "output_type": "display_data"
    },
    {
     "data": {
      "text/markdown": [
       "### Ferries"
      ],
      "text/plain": [
       "<IPython.core.display.Markdown object>"
      ]
     },
     "metadata": {},
     "output_type": "display_data"
    },
    {
     "data": {
      "text/markdown": [
       "Local authorities may provide and operate ferry services where they connect key transport routes within the local authority area. (Services/Direct)"
      ],
      "text/plain": [
       "<IPython.core.display.Markdown object>"
      ]
     },
     "metadata": {},
     "output_type": "display_data"
    },
    {
     "data": {
      "text/markdown": [
       "### Flood prevention"
      ],
      "text/plain": [
       "<IPython.core.display.Markdown object>"
      ]
     },
     "metadata": {},
     "output_type": "display_data"
    },
    {
     "data": {
      "text/markdown": [
       "Works carried out to reduce the likelihood of flooding in areas considered at risk or where there has previously been flooding (Services/Direct)"
      ],
      "text/plain": [
       "<IPython.core.display.Markdown object>"
      ]
     },
     "metadata": {},
     "output_type": "display_data"
    },
    {
     "data": {
      "text/markdown": [
       "### Flytipping"
      ],
      "text/plain": [
       "<IPython.core.display.Markdown object>"
      ]
     },
     "metadata": {},
     "output_type": "display_data"
    },
    {
     "data": {
      "text/markdown": [
       "The council has responsibility for acting on reports of flytipping to both remove the waste and to locate and prosecute the offenders.  Where the waste is hazardous the council has a responsibility to ensure public safety until such time as the waste can be removed. (Services/Direct)"
      ],
      "text/plain": [
       "<IPython.core.display.Markdown object>"
      ]
     },
     "metadata": {},
     "output_type": "display_data"
    },
    {
     "data": {
      "text/markdown": [
       "### Food waste recycling"
      ],
      "text/plain": [
       "<IPython.core.display.Markdown object>"
      ]
     },
     "metadata": {},
     "output_type": "display_data"
    },
    {
     "data": {
      "text/markdown": [
       "Local administrations may run a food waste recycle scheme.  This may take the form of collecting of food waste in special containers to be composted in a central facility or providing home food composters for which there may be a charge. (Services/Direct)"
      ],
      "text/plain": [
       "<IPython.core.display.Markdown object>"
      ]
     },
     "metadata": {},
     "output_type": "display_data"
    },
    {
     "data": {
      "text/markdown": [
       "### Full planning applications"
      ],
      "text/plain": [
       "<IPython.core.display.Markdown object>"
      ]
     },
     "metadata": {},
     "output_type": "display_data"
    },
    {
     "data": {
      "text/markdown": [
       "A person proposing to alter, extend, build or change the use of premises must apply for planning permission for development from the local authority. Planning permission for businesses is usually granted in line with the development plan for the area which will include policies relating to commercial and industrial development.\r\n",
       "In the UK this is done by filling in the Standard Planning Application Form (1APP) and meeting all of the Planning Application Requirements (PAR). (Services/Direct)"
      ],
      "text/plain": [
       "<IPython.core.display.Markdown object>"
      ]
     },
     "metadata": {},
     "output_type": "display_data"
    },
    {
     "data": {
      "text/markdown": [
       "### Gas safety inspection"
      ],
      "text/plain": [
       "<IPython.core.display.Markdown object>"
      ]
     },
     "metadata": {},
     "output_type": "display_data"
    },
    {
     "data": {
      "text/markdown": [
       "Inspection and servicing of any gas fires, boilers or other appliances at least once every year in any accommodation where the council is the landlord. This work must be carried out by a competent Gas Safe registered installer who must provide the householder with a certificate confirming that the appliance has been checked and is safe to use. (Services/Direct)"
      ],
      "text/plain": [
       "<IPython.core.display.Markdown object>"
      ]
     },
     "metadata": {},
     "output_type": "display_data"
    },
    {
     "data": {
      "text/markdown": [
       "### Grants and support for voluntary organisations"
      ],
      "text/plain": [
       "<IPython.core.display.Markdown object>"
      ]
     },
     "metadata": {},
     "output_type": "display_data"
    },
    {
     "data": {
      "text/markdown": [
       "Provision of grants or other practical or financial assistance to local voluntary organisations.  Grants and advice may be made available by the local council or by other organisations.  Grants are usually available for projects/organisations that comply with the terms and conditions imposed on the issue of funding. (Services/Direct)"
      ],
      "text/plain": [
       "<IPython.core.display.Markdown object>"
      ]
     },
     "metadata": {},
     "output_type": "display_data"
    },
    {
     "data": {
      "text/markdown": [
       "### Grass cutting"
      ],
      "text/plain": [
       "<IPython.core.display.Markdown object>"
      ]
     },
     "metadata": {},
     "output_type": "display_data"
    },
    {
     "data": {
      "text/markdown": [
       "Cutting of grass on public land within the local authority area. (Services/Direct)"
      ],
      "text/plain": [
       "<IPython.core.display.Markdown object>"
      ]
     },
     "metadata": {},
     "output_type": "display_data"
    },
    {
     "data": {
      "text/markdown": [
       "### Grazing land"
      ],
      "text/plain": [
       "<IPython.core.display.Markdown object>"
      ]
     },
     "metadata": {},
     "output_type": "display_data"
    },
    {
     "data": {
      "text/markdown": [
       "Open land owned by the local authority which may be used by the public for grazing animals.  The precise use of the land (e.g. for horses, cattle etc.) may differ according to location and the local authority may issue grazing permits to limit the number of animals on the land. (Services/Direct)"
      ],
      "text/plain": [
       "<IPython.core.display.Markdown object>"
      ]
     },
     "metadata": {},
     "output_type": "display_data"
    },
    {
     "data": {
      "text/markdown": [
       "### Hazardous chemical (HAZCHEM) incidents"
      ],
      "text/plain": [
       "<IPython.core.display.Markdown object>"
      ]
     },
     "metadata": {},
     "output_type": "display_data"
    },
    {
     "data": {
      "text/markdown": [
       "Attending incidents involving hazardous chemicals to protect life and mitigate the effects on the environment.  Providing advice and information on hazardous chemicals and emergency procedures to deal with them. (Services/Direct)"
      ],
      "text/plain": [
       "<IPython.core.display.Markdown object>"
      ]
     },
     "metadata": {},
     "output_type": "display_data"
    },
    {
     "data": {
      "text/markdown": [
       "### House clearance and re-housing"
      ],
      "text/plain": [
       "<IPython.core.display.Markdown object>"
      ]
     },
     "metadata": {},
     "output_type": "display_data"
    },
    {
     "data": {
      "text/markdown": [
       "Where a property is unfit to live in the LA may decide to demolish it and redevelop the site (which may mean the clearance of neighbouring property).  The council will usually offer the owners the market value of the property and repay expenses associated with moving plus possible compensation. Where the property is rented tenants will be given priority for re-housing in a council property. (Services/Direct)"
      ],
      "text/plain": [
       "<IPython.core.display.Markdown object>"
      ]
     },
     "metadata": {},
     "output_type": "display_data"
    },
    {
     "data": {
      "text/markdown": [
       "### Household garden waste"
      ],
      "text/plain": [
       "<IPython.core.display.Markdown object>"
      ]
     },
     "metadata": {},
     "output_type": "display_data"
    },
    {
     "data": {
      "text/markdown": [
       "Garden waste may be collected from outside residential properties.  There may be a charge for this service. Containers for garden waste may be provided or may need to be purchased from the local authority.. (Services/Direct)"
      ],
      "text/plain": [
       "<IPython.core.display.Markdown object>"
      ]
     },
     "metadata": {},
     "output_type": "display_data"
    },
    {
     "data": {
      "text/markdown": [
       "### Household waste accumulation"
      ],
      "text/plain": [
       "<IPython.core.display.Markdown object>"
      ]
     },
     "metadata": {},
     "output_type": "display_data"
    },
    {
     "data": {
      "text/markdown": [
       "Where accumulations of rubbish are considered a statutory nuisance the council may ask the landowner to remove the rubbish and has the power to prosecute where no action is taken. (Services/Direct)"
      ],
      "text/plain": [
       "<IPython.core.display.Markdown object>"
      ]
     },
     "metadata": {},
     "output_type": "display_data"
    },
    {
     "data": {
      "text/markdown": [
       "### Household waste assisted collection"
      ],
      "text/plain": [
       "<IPython.core.display.Markdown object>"
      ]
     },
     "metadata": {},
     "output_type": "display_data"
    },
    {
     "data": {
      "text/markdown": [
       "An assisted refuse collection service provided to residents who, through illness or infirmity, are unable to put out their refuse and do not have anyone else to assist them. (Services/Direct)"
      ],
      "text/plain": [
       "<IPython.core.display.Markdown object>"
      ]
     },
     "metadata": {},
     "output_type": "display_data"
    },
    {
     "data": {
      "text/markdown": [
       "### Household waste collection"
      ],
      "text/plain": [
       "<IPython.core.display.Markdown object>"
      ]
     },
     "metadata": {},
     "output_type": "display_data"
    },
    {
     "data": {
      "text/markdown": [
       "The local authority provides a regular (usually weekly) collection of household rubbish from all residential premises within the authority boundaries. (Services/Direct)"
      ],
      "text/plain": [
       "<IPython.core.display.Markdown object>"
      ]
     },
     "metadata": {},
     "output_type": "display_data"
    },
    {
     "data": {
      "text/markdown": [
       "### Household waste containers"
      ],
      "text/plain": [
       "<IPython.core.display.Markdown object>"
      ]
     },
     "metadata": {},
     "output_type": "display_data"
    },
    {
     "data": {
      "text/markdown": [
       "The local authority may provide dustbins, wheelie bins or bags for household waste.  The type and size of bins available may vary according to local circumstances and to the nature of the property (e.g. the number of residents). (Services/Direct)"
      ],
      "text/plain": [
       "<IPython.core.display.Markdown object>"
      ]
     },
     "metadata": {},
     "output_type": "display_data"
    },
    {
     "data": {
      "text/markdown": [
       "### Household waste disposal sites"
      ],
      "text/plain": [
       "<IPython.core.display.Markdown object>"
      ]
     },
     "metadata": {},
     "output_type": "display_data"
    },
    {
     "data": {
      "text/markdown": [
       "Provision of civic amenity sites which may be used by local residents (usually free of charge) and businesses (usually charged).  The sites provide facilities for collection of all household and garden waste other than anything which may be considered as hazardous and requiring special treatment. (Services/Direct)"
      ],
      "text/plain": [
       "<IPython.core.display.Markdown object>"
      ]
     },
     "metadata": {},
     "output_type": "display_data"
    },
    {
     "data": {
      "text/markdown": [
       "### Household waste enforcement"
      ],
      "text/plain": [
       "<IPython.core.display.Markdown object>"
      ]
     },
     "metadata": {},
     "output_type": "display_data"
    },
    {
     "data": {
      "text/markdown": [
       "Under the council can specify the location and times at which household waste can be placed for collection. The council can take action against any residents who do not comply with local regulations. (Services/Direct)"
      ],
      "text/plain": [
       "<IPython.core.display.Markdown object>"
      ]
     },
     "metadata": {},
     "output_type": "display_data"
    },
    {
     "data": {
      "text/markdown": [
       "### Housing condition surveys"
      ],
      "text/plain": [
       "<IPython.core.display.Markdown object>"
      ]
     },
     "metadata": {},
     "output_type": "display_data"
    },
    {
     "data": {
      "text/markdown": [
       "The local authority is under a duty to gain access to properties to undertake surveys for number of reasons such as major repairs and to carry out specialist surveys. (Services/Direct)"
      ],
      "text/plain": [
       "<IPython.core.display.Markdown object>"
      ]
     },
     "metadata": {},
     "output_type": "display_data"
    },
    {
     "data": {
      "text/markdown": [
       "### Housing modernisation schemes"
      ],
      "text/plain": [
       "<IPython.core.display.Markdown object>"
      ]
     },
     "metadata": {},
     "output_type": "display_data"
    },
    {
     "data": {
      "text/markdown": [
       "For council owned properties which are particularly old the council will implement a modernisation scheme to bring the property up to acceptable standards.  This may involve rewiring, new windows, new doors etc. (Services/Direct)"
      ],
      "text/plain": [
       "<IPython.core.display.Markdown object>"
      ]
     },
     "metadata": {},
     "output_type": "display_data"
    },
    {
     "data": {
      "text/markdown": [
       "### Housing repairs"
      ],
      "text/plain": [
       "<IPython.core.display.Markdown object>"
      ]
     },
     "metadata": {},
     "output_type": "display_data"
    },
    {
     "data": {
      "text/markdown": [
       "The council are generally responsible for structural repairs to council property, for repairs to essential supplies (water, gas, electricity etc.) or any repairs where they may be a risk to health or safety. Where the damage has been caused by the resident they may be asked to pay for the repairs. (Services/Direct)"
      ],
      "text/plain": [
       "<IPython.core.display.Markdown object>"
      ]
     },
     "metadata": {},
     "output_type": "display_data"
    },
    {
     "data": {
      "text/markdown": [
       "### Journey planning"
      ],
      "text/plain": [
       "<IPython.core.display.Markdown object>"
      ]
     },
     "metadata": {},
     "output_type": "display_data"
    },
    {
     "data": {
      "text/markdown": [
       "Providing members of the public with a means to plan a journey to and from any address or station (bus or rail) within the local area.  The planner usually includes all forms of public transport ( often including walking) and calculates the journey based on departure and arrival times. (Services/Direct, Placemaking)"
      ],
      "text/plain": [
       "<IPython.core.display.Markdown object>"
      ]
     },
     "metadata": {},
     "output_type": "display_data"
    },
    {
     "data": {
      "text/markdown": [
       "### Keeping warm in winter"
      ],
      "text/plain": [
       "<IPython.core.display.Markdown object>"
      ]
     },
     "metadata": {},
     "output_type": "display_data"
    },
    {
     "data": {
      "text/markdown": [
       "The Central Heating Programme provides central heating systems and insulation measures in the private sector where the householder or their spouse is 60 or over, and there is no system or one which is irreparably broken.  In addition, applicants aged 80 or over can receive upgrades and replacements of partial or inefficient systems. (Services/Direct)"
      ],
      "text/plain": [
       "<IPython.core.display.Markdown object>"
      ]
     },
     "metadata": {},
     "output_type": "display_data"
    },
    {
     "data": {
      "text/markdown": [
       "### Light pollution"
      ],
      "text/plain": [
       "<IPython.core.display.Markdown object>"
      ]
     },
     "metadata": {},
     "output_type": "display_data"
    },
    {
     "data": {
      "text/markdown": [
       "Dealing with reports of incidents of light pollution (Services/Direct)"
      ],
      "text/plain": [
       "<IPython.core.display.Markdown object>"
      ]
     },
     "metadata": {},
     "output_type": "display_data"
    },
    {
     "data": {
      "text/markdown": [
       "### Litter bins"
      ],
      "text/plain": [
       "<IPython.core.display.Markdown object>"
      ]
     },
     "metadata": {},
     "output_type": "display_data"
    },
    {
     "data": {
      "text/markdown": [
       "Litter in a public place is unsightly, dangerous to animals, and an offence for which a fine may be payable. The council provide and maintain bins to try and prevent the depositing of litter in public places and arrange for the bins to be emptied on a regular basis. (Services/Direct)"
      ],
      "text/plain": [
       "<IPython.core.display.Markdown object>"
      ]
     },
     "metadata": {},
     "output_type": "display_data"
    },
    {
     "data": {
      "text/markdown": [
       "### Litter removal"
      ],
      "text/plain": [
       "<IPython.core.display.Markdown object>"
      ]
     },
     "metadata": {},
     "output_type": "display_data"
    },
    {
     "data": {
      "text/markdown": [
       "The local authority is responsible for the sweeping of streets and removal of litter. (Services/Direct)"
      ],
      "text/plain": [
       "<IPython.core.display.Markdown object>"
      ]
     },
     "metadata": {},
     "output_type": "display_data"
    },
    {
     "data": {
      "text/markdown": [
       "### Local crisis payment"
      ],
      "text/plain": [
       "<IPython.core.display.Markdown object>"
      ]
     },
     "metadata": {},
     "output_type": "display_data"
    },
    {
     "data": {
      "text/markdown": [
       "Payment or provision of household goods to local households who have an urgent need as a consequence of an emergency, disaster or unforeseen circumstance and where a household has insufficient resources to meet an urgent need that poses an immediate and substantial risk to their health and safety (Services/Direct)"
      ],
      "text/plain": [
       "<IPython.core.display.Markdown object>"
      ]
     },
     "metadata": {},
     "output_type": "display_data"
    },
    {
     "data": {
      "text/markdown": [
       "### Lorry parking"
      ],
      "text/plain": [
       "<IPython.core.display.Markdown object>"
      ]
     },
     "metadata": {},
     "output_type": "display_data"
    },
    {
     "data": {
      "text/markdown": [
       "Provision of parking areas for heavy goods vehicles which may be used to park, to transfer goods and if facilities available temporary storage of goods whilst being transferred. (Services/Direct)"
      ],
      "text/plain": [
       "<IPython.core.display.Markdown object>"
      ]
     },
     "metadata": {},
     "output_type": "display_data"
    },
    {
     "data": {
      "text/markdown": [
       "### Motability scheme"
      ],
      "text/plain": [
       "<IPython.core.display.Markdown object>"
      ]
     },
     "metadata": {},
     "output_type": "display_data"
    },
    {
     "data": {
      "text/markdown": [
       "The Motability scheme provides disabled people with safe, reliable and affordable personal transport through a contract or hire purchase arrangement. Cars account for 99% of the scheme's activities, with powered wheelchairs and scooters making up the balance. (Services/Direct)"
      ],
      "text/plain": [
       "<IPython.core.display.Markdown object>"
      ]
     },
     "metadata": {},
     "output_type": "display_data"
    },
    {
     "data": {
      "text/markdown": [
       "### Municipal golf courses"
      ],
      "text/plain": [
       "<IPython.core.display.Markdown object>"
      ]
     },
     "metadata": {},
     "output_type": "display_data"
    },
    {
     "data": {
      "text/markdown": [
       "Golf courses which are owned and run by the local authority.  Members of the public are usually able to 'pay and play' on these courses or to book tee times in advance.  Municipal golf courses may also have their own membership schemes and tee times reserved for members. (Services/Direct, Placemaking)"
      ],
      "text/plain": [
       "<IPython.core.display.Markdown object>"
      ]
     },
     "metadata": {},
     "output_type": "display_data"
    },
    {
     "data": {
      "text/markdown": [
       "### Nature reserves"
      ],
      "text/plain": [
       "<IPython.core.display.Markdown object>"
      ]
     },
     "metadata": {},
     "output_type": "display_data"
    },
    {
     "data": {
      "text/markdown": [
       "Local nature reserves where wildlife is protected. Nature reserves are usually open to the public but may have restrictions at certain times or under other conditions (no bicycles, dogs etc.) to protect the wildlife (Services/Direct, Placemaking)"
      ],
      "text/plain": [
       "<IPython.core.display.Markdown object>"
      ]
     },
     "metadata": {},
     "output_type": "display_data"
    },
    {
     "data": {
      "text/markdown": [
       "### Park and ride"
      ],
      "text/plain": [
       "<IPython.core.display.Markdown object>"
      ]
     },
     "metadata": {},
     "output_type": "display_data"
    },
    {
     "data": {
      "text/markdown": [
       "A local authority may provide park and ride facilities, which enable commuters to leave their personal vehicles in a designated car park and transfer to public transport facilities. (Services/Direct, Placemaking)"
      ],
      "text/plain": [
       "<IPython.core.display.Markdown object>"
      ]
     },
     "metadata": {},
     "output_type": "display_data"
    },
    {
     "data": {
      "text/markdown": [
       "### Pavement maintenance"
      ],
      "text/plain": [
       "<IPython.core.display.Markdown object>"
      ]
     },
     "metadata": {},
     "output_type": "display_data"
    },
    {
     "data": {
      "text/markdown": [
       "The local authority has responsibility for the maintenance of pavements within the area.  They should provide advice on reporting dangerous pavements and what to do in the event of an accident resulting from trip hazards (holes, uneven paving slabs etc.) on the pavement. (Services/Direct)"
      ],
      "text/plain": [
       "<IPython.core.display.Markdown object>"
      ]
     },
     "metadata": {},
     "output_type": "display_data"
    },
    {
     "data": {
      "text/markdown": [
       "### Pavement obstructions"
      ],
      "text/plain": [
       "<IPython.core.display.Markdown object>"
      ]
     },
     "metadata": {},
     "output_type": "display_data"
    },
    {
     "data": {
      "text/markdown": [
       "Streetworks, roadworks, skips, scaffolds, hoardings, advertising boards and building materials that block the pavement are all considered to be causing an obstruction to pedestrians.  The council is responsible for ensuring that such obstructions are removed. (Services/Direct)"
      ],
      "text/plain": [
       "<IPython.core.display.Markdown object>"
      ]
     },
     "metadata": {},
     "output_type": "display_data"
    },
    {
     "data": {
      "text/markdown": [
       "### Pavement parking"
      ],
      "text/plain": [
       "<IPython.core.display.Markdown object>"
      ]
     },
     "metadata": {},
     "output_type": "display_data"
    },
    {
     "data": {
      "text/markdown": [
       "Pavements are constructed and provided for pedestrian use. The local authority has a responsibility to keep the roads and footpaths safe to use. (Services/Direct)"
      ],
      "text/plain": [
       "<IPython.core.display.Markdown object>"
      ]
     },
     "metadata": {},
     "output_type": "display_data"
    },
    {
     "data": {
      "text/markdown": [
       "### Pedestrian crossings"
      ],
      "text/plain": [
       "<IPython.core.display.Markdown object>"
      ]
     },
     "metadata": {},
     "output_type": "display_data"
    },
    {
     "data": {
      "text/markdown": [
       "Provision and maintenance of pedestrian crossings in locations where it is likely that pedestrians may need to cross roads within the local authority area e.g. at major road junctions, near shopping areas, outside schools. (Services/Direct)"
      ],
      "text/plain": [
       "<IPython.core.display.Markdown object>"
      ]
     },
     "metadata": {},
     "output_type": "display_data"
    },
    {
     "data": {
      "text/markdown": [
       "### Planning decision notices"
      ],
      "text/plain": [
       "<IPython.core.display.Markdown object>"
      ]
     },
     "metadata": {},
     "output_type": "display_data"
    },
    {
     "data": {
      "text/markdown": [
       "The local authority is required to issue a formal decision notice on all planning applications.  Notices should clearly state whether planning permission is granted or refused and should also provide the applicant with information on how to appeal any decision. (Services/Direct, Placemaking)"
      ],
      "text/plain": [
       "<IPython.core.display.Markdown object>"
      ]
     },
     "metadata": {},
     "output_type": "display_data"
    },
    {
     "data": {
      "text/markdown": [
       "### Post-incident support"
      ],
      "text/plain": [
       "<IPython.core.display.Markdown object>"
      ]
     },
     "metadata": {},
     "output_type": "display_data"
    },
    {
     "data": {
      "text/markdown": [
       "Providing advice and support to residents or businesses who have suffered damage to their property following a fire, flood or similar incident.  This may include advice on ventilation, drying out, cleaning, insurance matters etc. (Services/Direct, Placemaking)"
      ],
      "text/plain": [
       "<IPython.core.display.Markdown object>"
      ]
     },
     "metadata": {},
     "output_type": "display_data"
    },
    {
     "data": {
      "text/markdown": [
       "### Procurement policy"
      ],
      "text/plain": [
       "<IPython.core.display.Markdown object>"
      ]
     },
     "metadata": {},
     "output_type": "display_data"
    },
    {
     "data": {
      "text/markdown": [
       "The procurement process spans the whole cycle from identification of needs, through to the end of a services contract or the end of the useful life of an asset. (Services/Direct)"
      ],
      "text/plain": [
       "<IPython.core.display.Markdown object>"
      ]
     },
     "metadata": {},
     "output_type": "display_data"
    },
    {
     "data": {
      "text/markdown": [
       "### Recycling bags and containers"
      ],
      "text/plain": [
       "<IPython.core.display.Markdown object>"
      ]
     },
     "metadata": {},
     "output_type": "display_data"
    },
    {
     "data": {
      "text/markdown": [
       "Provision of a container (bag, green box etc.) for door-to-door collection of household waste for recycling. (Services/Direct)"
      ],
      "text/plain": [
       "<IPython.core.display.Markdown object>"
      ]
     },
     "metadata": {},
     "output_type": "display_data"
    },
    {
     "data": {
      "text/markdown": [
       "### Recycling of batteries"
      ],
      "text/plain": [
       "<IPython.core.display.Markdown object>"
      ]
     },
     "metadata": {},
     "output_type": "display_data"
    },
    {
     "data": {
      "text/markdown": [
       "Batteries are classified as hazardous waste because of the toxins that they contain, and therefore need to be disposed of differently from ordinary waste.  The council may provide a battery recycling facility at a local recycling centre or collect batteries as part of the kerbside recycling service.  The council may also provide information about other locations in the area where batteries can be recycled. (Services/Direct)"
      ],
      "text/plain": [
       "<IPython.core.display.Markdown object>"
      ]
     },
     "metadata": {},
     "output_type": "display_data"
    },
    {
     "data": {
      "text/markdown": [
       "### Recycling sites"
      ],
      "text/plain": [
       "<IPython.core.display.Markdown object>"
      ]
     },
     "metadata": {},
     "output_type": "display_data"
    },
    {
     "data": {
      "text/markdown": [
       "Provision of collection sites (also known as bottle or recycling banks and 'bring sites'), for recyclable waste which are easily accessible by local residents (often near supermarkets, in car parks etc.).  Sites usually have facilities to collect glass and paper with some also providing facilities for textiles, plastics and cans. (Services/Direct)"
      ],
      "text/plain": [
       "<IPython.core.display.Markdown object>"
      ]
     },
     "metadata": {},
     "output_type": "display_data"
    },
    {
     "data": {
      "text/markdown": [
       "### Reservoir management"
      ],
      "text/plain": [
       "<IPython.core.display.Markdown object>"
      ]
     },
     "metadata": {},
     "output_type": "display_data"
    },
    {
     "data": {
      "text/markdown": [
       "Where reservoirs exist within the local authority area the council (often jointly with other local or national authorities) is responsible for the maintenance of the reservoir and the surrounding land and the management of reservoir use for recreation. (Services/Direct)"
      ],
      "text/plain": [
       "<IPython.core.display.Markdown object>"
      ]
     },
     "metadata": {},
     "output_type": "display_data"
    },
    {
     "data": {
      "text/markdown": [
       "### Residential waste spillages"
      ],
      "text/plain": [
       "<IPython.core.display.Markdown object>"
      ]
     },
     "metadata": {},
     "output_type": "display_data"
    },
    {
     "data": {
      "text/markdown": [
       "Dealing with reported spillages of residential waste and recycling. (Services/Direct)"
      ],
      "text/plain": [
       "<IPython.core.display.Markdown object>"
      ]
     },
     "metadata": {},
     "output_type": "display_data"
    },
    {
     "data": {
      "text/markdown": [
       "### Rights of way enforcement"
      ],
      "text/plain": [
       "<IPython.core.display.Markdown object>"
      ]
     },
     "metadata": {},
     "output_type": "display_data"
    },
    {
     "data": {
      "text/markdown": [
       "It is the responsibility of the local authority to ensure that public rights of way are kept clear of obstructions and that landowners meet their responsibilities in this respect.  The local authority should offer advice and where appropriate take action over blocked or disputed public rights of way. (Services/Direct, Placemaking)"
      ],
      "text/plain": [
       "<IPython.core.display.Markdown object>"
      ]
     },
     "metadata": {},
     "output_type": "display_data"
    },
    {
     "data": {
      "text/markdown": [
       "### Rights of way maintenance"
      ],
      "text/plain": [
       "<IPython.core.display.Markdown object>"
      ]
     },
     "metadata": {},
     "output_type": "display_data"
    },
    {
     "data": {
      "text/markdown": [
       "The local authority may be responsible (often in conjunction with other organisations such as SusTrans) for building, improving and maintaining public rights of way in their area.  These may be local rights of way or sections of national networks such as the 'National Cycling Network' or long-distance footpaths. (Services/Direct)"
      ],
      "text/plain": [
       "<IPython.core.display.Markdown object>"
      ]
     },
     "metadata": {},
     "output_type": "display_data"
    },
    {
     "data": {
      "text/markdown": [
       "### Road bridges"
      ],
      "text/plain": [
       "<IPython.core.display.Markdown object>"
      ]
     },
     "metadata": {},
     "output_type": "display_data"
    },
    {
     "data": {
      "text/markdown": [
       "The local authority is responsible for any highway bridges it owns. These bridges should be inspected regularly and a programme of maintenance work drawn up to ensure their safety. (Services/Direct)"
      ],
      "text/plain": [
       "<IPython.core.display.Markdown object>"
      ]
     },
     "metadata": {},
     "output_type": "display_data"
    },
    {
     "data": {
      "text/markdown": [
       "### Road construction"
      ],
      "text/plain": [
       "<IPython.core.display.Markdown object>"
      ]
     },
     "metadata": {},
     "output_type": "display_data"
    },
    {
     "data": {
      "text/markdown": [
       "Where the local authority is the highway authority for an area they can construct new roads where this is required as part of a road improvement scheme or to support new developments  The council will typically have a road construction strategy and publish standards with which any new road needs to comply. (Services/Direct, Placemaking)"
      ],
      "text/plain": [
       "<IPython.core.display.Markdown object>"
      ]
     },
     "metadata": {},
     "output_type": "display_data"
    },
    {
     "data": {
      "text/markdown": [
       "### Road gritting"
      ],
      "text/plain": [
       "<IPython.core.display.Markdown object>"
      ]
     },
     "metadata": {},
     "output_type": "display_data"
    },
    {
     "data": {
      "text/markdown": [
       "Gritting of primary and secondary roads within the local authority area when weather conditions may prove hazardous (i.e. freezing temperatures).  The local authority may also provide grit bins for public use on roads and pavements in potentially dangerous areas. (Services/Direct)"
      ],
      "text/plain": [
       "<IPython.core.display.Markdown object>"
      ]
     },
     "metadata": {},
     "output_type": "display_data"
    },
    {
     "data": {
      "text/markdown": [
       "### Road maintenance"
      ],
      "text/plain": [
       "<IPython.core.display.Markdown object>"
      ]
     },
     "metadata": {},
     "output_type": "display_data"
    },
    {
     "data": {
      "text/markdown": [
       "Maintenance and repair of potholes where the surface of the road has been eroded posing a risk to road users. (Services/Direct)"
      ],
      "text/plain": [
       "<IPython.core.display.Markdown object>"
      ]
     },
     "metadata": {},
     "output_type": "display_data"
    },
    {
     "data": {
      "text/markdown": [
       "### Roads enforcement"
      ],
      "text/plain": [
       "<IPython.core.display.Markdown object>"
      ]
     },
     "metadata": {},
     "output_type": "display_data"
    },
    {
     "data": {
      "text/markdown": [
       "The Council has a duty to protect the public rights on the road and footpath network. The effectiveness of legislation in protecting the public is dependent on the compliance of others. The local highways authority has a duty to maintain adopted highways to safe and serviceable standards (Services/Direct, Regulation/Data)"
      ],
      "text/plain": [
       "<IPython.core.display.Markdown object>"
      ]
     },
     "metadata": {},
     "output_type": "display_data"
    },
    {
     "data": {
      "text/markdown": [
       "### Shared home ownership"
      ],
      "text/plain": [
       "<IPython.core.display.Markdown object>"
      ]
     },
     "metadata": {},
     "output_type": "display_data"
    },
    {
     "data": {
      "text/markdown": [
       "A shared ownership allows the owner to own a percentage of their home, for which they will pay a mortgage.  The remainder of the property is owned by the local authority to whom rent is paid. (Services/Direct)"
      ],
      "text/plain": [
       "<IPython.core.display.Markdown object>"
      ]
     },
     "metadata": {},
     "output_type": "display_data"
    },
    {
     "data": {
      "text/markdown": [
       "### Snow clearance"
      ],
      "text/plain": [
       "<IPython.core.display.Markdown object>"
      ]
     },
     "metadata": {},
     "output_type": "display_data"
    },
    {
     "data": {
      "text/markdown": [
       "Keeping roads and pavements clear of snow and ice in severe winter weather conditions. (Services/Direct)"
      ],
      "text/plain": [
       "<IPython.core.display.Markdown object>"
      ]
     },
     "metadata": {},
     "output_type": "display_data"
    },
    {
     "data": {
      "text/markdown": [
       "### Stations, stops and shelters"
      ],
      "text/plain": [
       "<IPython.core.display.Markdown object>"
      ]
     },
     "metadata": {},
     "output_type": "display_data"
    },
    {
     "data": {
      "text/markdown": [
       "Provision of stations (train, bus, metro etc.), interchanges, bus stops and shelters and associated facilities. (Services/Direct)"
      ],
      "text/plain": [
       "<IPython.core.display.Markdown object>"
      ]
     },
     "metadata": {},
     "output_type": "display_data"
    },
    {
     "data": {
      "text/markdown": [
       "### Street cleaning"
      ],
      "text/plain": [
       "<IPython.core.display.Markdown object>"
      ]
     },
     "metadata": {},
     "output_type": "display_data"
    },
    {
     "data": {
      "text/markdown": [
       "The local authority street cleansing programme provides a frequent cleansing of streets, gullies, car parks, public conveniences and other public areas to remove litter, build up of leaves or any other conditions which could pose a risk to public health and safety. (Services/Direct)"
      ],
      "text/plain": [
       "<IPython.core.display.Markdown object>"
      ]
     },
     "metadata": {},
     "output_type": "display_data"
    },
    {
     "data": {
      "text/markdown": [
       "### Street furniture"
      ],
      "text/plain": [
       "<IPython.core.display.Markdown object>"
      ]
     },
     "metadata": {},
     "output_type": "display_data"
    },
    {
     "data": {
      "text/markdown": [
       "Provision and maintenance of street furniture such as seating, decorative lighting, cycle racks etc. to enhance local public areas. (Services/Direct)"
      ],
      "text/plain": [
       "<IPython.core.display.Markdown object>"
      ]
     },
     "metadata": {},
     "output_type": "display_data"
    },
    {
     "data": {
      "text/markdown": [
       "### Street lighting"
      ],
      "text/plain": [
       "<IPython.core.display.Markdown object>"
      ]
     },
     "metadata": {},
     "output_type": "display_data"
    },
    {
     "data": {
      "text/markdown": [
       "The local authority is responsible for maintenance and repairs of street lights, and lighting faults including illuminated bollards, signs and beacons. (Services/Direct)"
      ],
      "text/plain": [
       "<IPython.core.display.Markdown object>"
      ]
     },
     "metadata": {},
     "output_type": "display_data"
    },
    {
     "data": {
      "text/markdown": [
       "### Transport tickets and passes"
      ],
      "text/plain": [
       "<IPython.core.display.Markdown object>"
      ]
     },
     "metadata": {},
     "output_type": "display_data"
    },
    {
     "data": {
      "text/markdown": [
       "Provision of information on and sales of the different types of tickets and passes available for public transport in the local area (Services/Direct)"
      ],
      "text/plain": [
       "<IPython.core.display.Markdown object>"
      ]
     },
     "metadata": {},
     "output_type": "display_data"
    },
    {
     "data": {
      "text/markdown": [
       "### Transport timetable information"
      ],
      "text/plain": [
       "<IPython.core.display.Markdown object>"
      ]
     },
     "metadata": {},
     "output_type": "display_data"
    },
    {
     "data": {
      "text/markdown": [
       "Publication of timetables for local transport including trains, buses, metro/underground, tram and any other forms of public transport (Services/Direct)"
      ],
      "text/plain": [
       "<IPython.core.display.Markdown object>"
      ]
     },
     "metadata": {},
     "output_type": "display_data"
    },
    {
     "data": {
      "text/markdown": [
       "### Tree management"
      ],
      "text/plain": [
       "<IPython.core.display.Markdown object>"
      ]
     },
     "metadata": {},
     "output_type": "display_data"
    },
    {
     "data": {
      "text/markdown": [
       "The local authority is responsible for the efficient management of trees in their ownership within urban and rural environments.  This includes the maintenance and protection of trees on all council owned land and on streets and other paved areas to ensure the safety of the public. (Services/Direct)"
      ],
      "text/plain": [
       "<IPython.core.display.Markdown object>"
      ]
     },
     "metadata": {},
     "output_type": "display_data"
    },
    {
     "data": {
      "text/markdown": [
       "### Verge maintenance"
      ],
      "text/plain": [
       "<IPython.core.display.Markdown object>"
      ]
     },
     "metadata": {},
     "output_type": "display_data"
    },
    {
     "data": {
      "text/markdown": [
       "The majority of grass verges adjacent to roads are within the public highway. The local authority is required to keep these safe and unobstructed. (Services/Direct)"
      ],
      "text/plain": [
       "<IPython.core.display.Markdown object>"
      ]
     },
     "metadata": {},
     "output_type": "display_data"
    },
    {
     "data": {
      "text/markdown": [
       "### Water fluoridation schemes"
      ],
      "text/plain": [
       "<IPython.core.display.Markdown object>"
      ]
     },
     "metadata": {},
     "output_type": "display_data"
    },
    {
     "data": {
      "text/markdown": [
       "Water fluoridation is considered as a safe and effective measure to help people improve their oral health.  Local authorities can implement, vary or terminate water fluoridation schemes in their area.  The authority is responsible for operating any such schemes in their area. (Services/Direct)"
      ],
      "text/plain": [
       "<IPython.core.display.Markdown object>"
      ]
     },
     "metadata": {},
     "output_type": "display_data"
    },
    {
     "data": {
      "text/markdown": [
       "## Regulation/Data"
      ],
      "text/plain": [
       "<IPython.core.display.Markdown object>"
      ]
     },
     "metadata": {},
     "output_type": "display_data"
    },
    {
     "data": {
      "text/markdown": [
       "### Air quality"
      ],
      "text/plain": [
       "<IPython.core.display.Markdown object>"
      ]
     },
     "metadata": {},
     "output_type": "display_data"
    },
    {
     "data": {
      "text/markdown": [
       "Each council has responsibility for measuring the quality of ambient air to ensure that it meets required standards in relation to the concentration of a defined range of pollutants such as lead, nitrogen dioxide, benzene etc. The local authority is also required to keep a copy of any orders made under relevant legislation. (Regulation/Data)"
      ],
      "text/plain": [
       "<IPython.core.display.Markdown object>"
      ]
     },
     "metadata": {},
     "output_type": "display_data"
    },
    {
     "data": {
      "text/markdown": [
       "### Brownfield land register"
      ],
      "text/plain": [
       "<IPython.core.display.Markdown object>"
      ]
     },
     "metadata": {},
     "output_type": "display_data"
    },
    {
     "data": {
      "text/markdown": [
       "Each planning authority must keep and maintain a register of brownfield land in it's area.  Brownfield land is land which has been previously developed and which might be suitable for housing development.  Registers may be kept in two parts.  The first part (which is mandatory) is for sites categorised as previously developed land which are suitable, available and achievable for residential development.  The second part of the register (which is optional) allows the planning authority to select sites from part one and grant permission in principle (PiP) for housing-led development.  Further guidance can be found at http://schemas.opendata.esd.org.uk/brownfield. (Regulation/Data)"
      ],
      "text/plain": [
       "<IPython.core.display.Markdown object>"
      ]
     },
     "metadata": {},
     "output_type": "display_data"
    },
    {
     "data": {
      "text/markdown": [
       "### Building control"
      ],
      "text/plain": [
       "<IPython.core.display.Markdown object>"
      ]
     },
     "metadata": {},
     "output_type": "display_data"
    },
    {
     "data": {
      "text/markdown": [
       "The council is responsible for ensuring that buildings are properly designed and constructed so as to ensure the health, safety, welfare and convenience of people using them. All buildings should comply with the current building regulations. The local authority inspect plans for new buildings to check compliance with regulations and periodically inspect the site during construction to ensure approved plans are adhered to. \r\n",
       "In Scotland the local authority is responsible for ensuring that the construction, alteration, extension, demolition and conversion of buildings are conducted so as to ensure the health, safety, welfare and convenience of citizens. The local authority will inspect plans for new buildings to check compliance with regulations and periodically inspect sites during construction to ensure approved plans are adhered to. When the local authority is satisfied that with the plans they will issue a Building Warrant the legal permission to commence. (Regulation/Data)"
      ],
      "text/plain": [
       "<IPython.core.display.Markdown object>"
      ]
     },
     "metadata": {},
     "output_type": "display_data"
    },
    {
     "data": {
      "text/markdown": [
       "### Clean Air Act approval"
      ],
      "text/plain": [
       "<IPython.core.display.Markdown object>"
      ]
     },
     "metadata": {},
     "output_type": "display_data"
    },
    {
     "data": {
      "text/markdown": [
       "The local authority is responsible for ensuring compliance with regulations such as those which control smoke emissions and the height of chimneys and those relating to the content and composition of motor fuels. (Regulation/Data)"
      ],
      "text/plain": [
       "<IPython.core.display.Markdown object>"
      ]
     },
     "metadata": {},
     "output_type": "display_data"
    },
    {
     "data": {
      "text/markdown": [
       "### Discharge of planning conditions"
      ],
      "text/plain": [
       "<IPython.core.display.Markdown object>"
      ]
     },
     "metadata": {},
     "output_type": "display_data"
    },
    {
     "data": {
      "text/markdown": [
       "Where a condition has been imposed on a development when planning permission is granted the developer needs to make sure that the conditions are discharged either prior to the commencement of development or prior to occupation as appropriate.  The developer must apply to the local planning authority for a discharge of the condition(s). (Regulation/Data)"
      ],
      "text/plain": [
       "<IPython.core.display.Markdown object>"
      ]
     },
     "metadata": {},
     "output_type": "display_data"
    },
    {
     "data": {
      "text/markdown": [
       "### Environmental Impact Assessment screening"
      ],
      "text/plain": [
       "<IPython.core.display.Markdown object>"
      ]
     },
     "metadata": {},
     "output_type": "display_data"
    },
    {
     "data": {
      "text/markdown": [
       "Any proposed development over 0.5 hectares and/or which may have significant impact on the local environment may require an Environmental Impact Assessment (EIA) to be carried out as part of the planning application process.  The planning authority may provide advice regarding the need for an EIA and work with the applicant to scope the topics and detail to be covered in the environmental statement which needs to accompany the planning application. (Regulation/Data)"
      ],
      "text/plain": [
       "<IPython.core.display.Markdown object>"
      ]
     },
     "metadata": {},
     "output_type": "display_data"
    },
    {
     "data": {
      "text/markdown": [
       "### Environmental information regulations"
      ],
      "text/plain": [
       "<IPython.core.display.Markdown object>"
      ]
     },
     "metadata": {},
     "output_type": "display_data"
    },
    {
     "data": {
      "text/markdown": [
       "Enforceable regulations that govern the public's right to access environmental information held by public authorities including local authorities. Environmental information covered by the regulations includes the state of the air, atmosphere, water, soil, land, landscape, as well as factors affecting the above elements such as substances, energy, noise, radiation or waste, emissions, discharges into the environment. (Regulation/Data)"
      ],
      "text/plain": [
       "<IPython.core.display.Markdown object>"
      ]
     },
     "metadata": {},
     "output_type": "display_data"
    },
    {
     "data": {
      "text/markdown": [
       "### Homes in multiple occupancy licence"
      ],
      "text/plain": [
       "<IPython.core.display.Markdown object>"
      ]
     },
     "metadata": {},
     "output_type": "display_data"
    },
    {
     "data": {
      "text/markdown": [
       "Landlords of houses of multiple occupation (with more than two households or tenants) are required to be licensed by the Local Authority. (Regulation/Data)"
      ],
      "text/plain": [
       "<IPython.core.display.Markdown object>"
      ]
     },
     "metadata": {},
     "output_type": "display_data"
    },
    {
     "data": {
      "text/markdown": [
       "### Houses in multiple occupation register"
      ],
      "text/plain": [
       "<IPython.core.display.Markdown object>"
      ]
     },
     "metadata": {},
     "output_type": "display_data"
    },
    {
     "data": {
      "text/markdown": [
       "The landlord or person having control of or managing homes in multiple occupancy must apply to register the premises with the local authority. (Regulation/Data)"
      ],
      "text/plain": [
       "<IPython.core.display.Markdown object>"
      ]
     },
     "metadata": {},
     "output_type": "display_data"
    },
    {
     "data": {
      "text/markdown": [
       "### Houses in multiple occupation safety inspection"
      ],
      "text/plain": [
       "<IPython.core.display.Markdown object>"
      ]
     },
     "metadata": {},
     "output_type": "display_data"
    },
    {
     "data": {
      "text/markdown": [
       "The local authority carries out safety inspection on homes in multiple occupation to ensure that it is safe, fit to live in and meet the legislative standards. (Regulation/Data)"
      ],
      "text/plain": [
       "<IPython.core.display.Markdown object>"
      ]
     },
     "metadata": {},
     "output_type": "display_data"
    },
    {
     "data": {
      "text/markdown": [
       "### Housing enforcement"
      ],
      "text/plain": [
       "<IPython.core.display.Markdown object>"
      ]
     },
     "metadata": {},
     "output_type": "display_data"
    },
    {
     "data": {
      "text/markdown": [
       "The local authority is responsible for enforcing legislation which establishes how landlords and letting agents should deal with tenants regarding living accommodation and associated financial matters (Regulation/Data)"
      ],
      "text/plain": [
       "<IPython.core.display.Markdown object>"
      ]
     },
     "metadata": {},
     "output_type": "display_data"
    },
    {
     "data": {
      "text/markdown": [
       "### Idling vehicles"
      ],
      "text/plain": [
       "<IPython.core.display.Markdown object>"
      ]
     },
     "metadata": {},
     "output_type": "display_data"
    },
    {
     "data": {
      "text/markdown": [
       "A local authority may enforce powers to deal with idling vehicles. If you idle your vehicle unnecessarily while stopped you could be faced with a fixed penalty ticket (Regulation/Data)"
      ],
      "text/plain": [
       "<IPython.core.display.Markdown object>"
      ]
     },
     "metadata": {},
     "output_type": "display_data"
    },
    {
     "data": {
      "text/markdown": [
       "### Landlord accreditation"
      ],
      "text/plain": [
       "<IPython.core.display.Markdown object>"
      ]
     },
     "metadata": {},
     "output_type": "display_data"
    },
    {
     "data": {
      "text/markdown": [
       "A set of standards (or code) relating to the management or physical condition of privately rented accommodation. Landlords who join a scheme and abide by the standards are accredited. Accreditation schemes are voluntary. There is no compulsion for landlords to join, but there may be many advantages. (Regulation/Data)"
      ],
      "text/plain": [
       "<IPython.core.display.Markdown object>"
      ]
     },
     "metadata": {},
     "output_type": "display_data"
    },
    {
     "data": {
      "text/markdown": [
       "### Lawful Development Certificate existing use"
      ],
      "text/plain": [
       "<IPython.core.display.Markdown object>"
      ]
     },
     "metadata": {},
     "output_type": "display_data"
    },
    {
     "data": {
      "text/markdown": [
       "A Certificates of Lawful Use or Development for existing use (CLEUD) can be issued to establish that an existing use of land, or some operational development, or some activity in breach of a planning condition, is lawful. An application for a CLEUD may be made in response to planning enforcement action or to confirm that the property cannot be subject to enforcement action in the future. (Regulation/Data)"
      ],
      "text/plain": [
       "<IPython.core.display.Markdown object>"
      ]
     },
     "metadata": {},
     "output_type": "display_data"
    },
    {
     "data": {
      "text/markdown": [
       "### Lawful Development Certificate proposed use"
      ],
      "text/plain": [
       "<IPython.core.display.Markdown object>"
      ]
     },
     "metadata": {},
     "output_type": "display_data"
    },
    {
     "data": {
      "text/markdown": [
       "A Certificates of Lawful Use or Development for proposed use (CLOPUD) can be issued by local planning authorities to confirm that a proposed development complies with planning regulations.  A developer would apply for a CLOPUD prior to submitting a full planning application. (Regulation/Data)"
      ],
      "text/plain": [
       "<IPython.core.display.Markdown object>"
      ]
     },
     "metadata": {},
     "output_type": "display_data"
    },
    {
     "data": {
      "text/markdown": [
       "### Licence for bridges, buildings, beams and cables over or along highway"
      ],
      "text/plain": [
       "<IPython.core.display.Markdown object>"
      ]
     },
     "metadata": {},
     "output_type": "display_data"
    },
    {
     "data": {
      "text/markdown": [
       "Anyone wishing to construct or locate bridges, buildings, beams and cables over or along the public highway must obtain the appropriate licence from their local authority in order to do so. (Regulation/Data)"
      ],
      "text/plain": [
       "<IPython.core.display.Markdown object>"
      ]
     },
     "metadata": {},
     "output_type": "display_data"
    },
    {
     "data": {
      "text/markdown": [
       "### Listed building consent"
      ],
      "text/plain": [
       "<IPython.core.display.Markdown object>"
      ]
     },
     "metadata": {},
     "output_type": "display_data"
    },
    {
     "data": {
      "text/markdown": [
       "A 'listed building' is a building, object or structure that has been judged to be of national historical or architectural interest.  The council are responsible for considering applications to demolish a listed building or for any alteration or extension which would affect its character as a building of architectural or historic interest (Regulation/Data, Placemaking)"
      ],
      "text/plain": [
       "<IPython.core.display.Markdown object>"
      ]
     },
     "metadata": {},
     "output_type": "display_data"
    },
    {
     "data": {
      "text/markdown": [
       "### Litter enforcement"
      ],
      "text/plain": [
       "<IPython.core.display.Markdown object>"
      ]
     },
     "metadata": {},
     "output_type": "display_data"
    },
    {
     "data": {
      "text/markdown": [
       "Anyone who drops litter in a public place is liable to pay a fixed penalty fine which may be enforced by the local authority. (Regulation/Data)"
      ],
      "text/plain": [
       "<IPython.core.display.Markdown object>"
      ]
     },
     "metadata": {},
     "output_type": "display_data"
    },
    {
     "data": {
      "text/markdown": [
       "### Local development order"
      ],
      "text/plain": [
       "<IPython.core.display.Markdown object>"
      ]
     },
     "metadata": {},
     "output_type": "display_data"
    },
    {
     "data": {
      "text/markdown": [
       "Local Development Orders (LDOs) are used to simplify the planning process by allowing certain developments to take place without the need for a planning application to be made.  This provides an incentive for developers to proceed without the time and cost implications of having to submit a planning application. (Regulation/Data)"
      ],
      "text/plain": [
       "<IPython.core.display.Markdown object>"
      ]
     },
     "metadata": {},
     "output_type": "display_data"
    },
    {
     "data": {
      "text/markdown": [
       "### Noise pollution"
      ],
      "text/plain": [
       "<IPython.core.display.Markdown object>"
      ]
     },
     "metadata": {},
     "output_type": "display_data"
    },
    {
     "data": {
      "text/markdown": [
       "Complaints about excessive noise are investigated by the local authority who can take action if the noise is considered to be a statutory nuisance. (Regulation/Data)"
      ],
      "text/plain": [
       "<IPython.core.display.Markdown object>"
      ]
     },
     "metadata": {},
     "output_type": "display_data"
    },
    {
     "data": {
      "text/markdown": [
       "### Open data publication"
      ],
      "text/plain": [
       "<IPython.core.display.Markdown object>"
      ]
     },
     "metadata": {},
     "output_type": "display_data"
    },
    {
     "data": {
      "text/markdown": [
       "Publication as open linked data of public sector information such that the data can be read and published in a variety of formats and resources. (Regulation/Data)"
      ],
      "text/plain": [
       "<IPython.core.display.Markdown object>"
      ]
     },
     "metadata": {},
     "output_type": "display_data"
    },
    {
     "data": {
      "text/markdown": [
       "### Parking permits"
      ],
      "text/plain": [
       "<IPython.core.display.Markdown object>"
      ]
     },
     "metadata": {},
     "output_type": "display_data"
    },
    {
     "data": {
      "text/markdown": [
       "Issuing of parking permits to residents who keep and use a car, a van or motorcycle on a full-time basis within a controlled parking zone.  Businesses operating within a controlled zone area may also qualify for permits. (Regulation/Data, Placemaking)"
      ],
      "text/plain": [
       "<IPython.core.display.Markdown object>"
      ]
     },
     "metadata": {},
     "output_type": "display_data"
    },
    {
     "data": {
      "text/markdown": [
       "### Parking zones"
      ],
      "text/plain": [
       "<IPython.core.display.Markdown object>"
      ]
     },
     "metadata": {},
     "output_type": "display_data"
    },
    {
     "data": {
      "text/markdown": [
       "A controlled parking scheme in a street or area where parking is organised in order to help residents park their vehicles. (Regulation/Data, Placemaking)"
      ],
      "text/plain": [
       "<IPython.core.display.Markdown object>"
      ]
     },
     "metadata": {},
     "output_type": "display_data"
    },
    {
     "data": {
      "text/markdown": [
       "### Performance measurement and reporting"
      ],
      "text/plain": [
       "<IPython.core.display.Markdown object>"
      ]
     },
     "metadata": {},
     "output_type": "display_data"
    },
    {
     "data": {
      "text/markdown": [
       "Collection and publish a range of performance indicators reflecting the services the authority provides. The indicators may be verified by an external auditor. (Regulation/Data, Placemaking)"
      ],
      "text/plain": [
       "<IPython.core.display.Markdown object>"
      ]
     },
     "metadata": {},
     "output_type": "display_data"
    },
    {
     "data": {
      "text/markdown": [
       "### Petrol vapour recovery regulation"
      ],
      "text/plain": [
       "<IPython.core.display.Markdown object>"
      ]
     },
     "metadata": {},
     "output_type": "display_data"
    },
    {
     "data": {
      "text/markdown": [
       "Many service stations require an Environmental Permit, which ensures that controls are in place to recover petrol vapour that can be lost to the atmosphere during the following activities. (Regulation/Data)"
      ],
      "text/plain": [
       "<IPython.core.display.Markdown object>"
      ]
     },
     "metadata": {},
     "output_type": "display_data"
    },
    {
     "data": {
      "text/markdown": [
       "### Petroleum storage licence"
      ],
      "text/plain": [
       "<IPython.core.display.Markdown object>"
      ]
     },
     "metadata": {},
     "output_type": "display_data"
    },
    {
     "data": {
      "text/markdown": [
       "Petrol filling stations and any other premises that store petrol for combustion engines must apply for a petroleum licence . (Regulation/Data)"
      ],
      "text/plain": [
       "<IPython.core.display.Markdown object>"
      ]
     },
     "metadata": {},
     "output_type": "display_data"
    },
    {
     "data": {
      "text/markdown": [
       "### Petroleum storage licence/certificate"
      ],
      "text/plain": [
       "<IPython.core.display.Markdown object>"
      ]
     },
     "metadata": {},
     "output_type": "display_data"
    },
    {
     "data": {
      "text/markdown": [
       "A Petroleum Enforcement Authority (PEA) is responsible for issuing either a petroleum storage certificate for dispensing premises or a licence to store petrol at other types of premises (Regulation/Data)"
      ],
      "text/plain": [
       "<IPython.core.display.Markdown object>"
      ]
     },
     "metadata": {},
     "output_type": "display_data"
    },
    {
     "data": {
      "text/markdown": [
       "### Planning consultation"
      ],
      "text/plain": [
       "<IPython.core.display.Markdown object>"
      ]
     },
     "metadata": {},
     "output_type": "display_data"
    },
    {
     "data": {
      "text/markdown": [
       "The involvement of the public in the planning process. When planning applications are submitted there is a comprehensive system in place which ensures that proposals are publicised in order to invite comments from the local community. Where a development may be controversial a public enquiry may be held. (Regulation/Data, Placemaking)"
      ],
      "text/plain": [
       "<IPython.core.display.Markdown object>"
      ]
     },
     "metadata": {},
     "output_type": "display_data"
    },
    {
     "data": {
      "text/markdown": [
       "### Planning obligations"
      ],
      "text/plain": [
       "<IPython.core.display.Markdown object>"
      ]
     },
     "metadata": {},
     "output_type": "display_data"
    },
    {
     "data": {
      "text/markdown": [
       "A Planning Obligation (also known as a Section 106) is a legally binding agreement made between the developer and the Council which is drafted where necessary to make an application acceptable in planning terms. (Regulation/Data)"
      ],
      "text/plain": [
       "<IPython.core.display.Markdown object>"
      ]
     },
     "metadata": {},
     "output_type": "display_data"
    },
    {
     "data": {
      "text/markdown": [
       "### Planning pre-application advice"
      ],
      "text/plain": [
       "<IPython.core.display.Markdown object>"
      ]
     },
     "metadata": {},
     "output_type": "display_data"
    },
    {
     "data": {
      "text/markdown": [
       "Prior to submitting a planning application the applicant can meet with a planning officer for an informal discussion of the proposed plans.  Pre-application advice can verify the list of local requirements each planning authority can require, reduce the likelihood of submitting invalid applications and help in understanding how planning policies and other requirements affect the proposals. (Regulation/Data)"
      ],
      "text/plain": [
       "<IPython.core.display.Markdown object>"
      ]
     },
     "metadata": {},
     "output_type": "display_data"
    },
    {
     "data": {
      "text/markdown": [
       "### Planning reserved matters"
      ],
      "text/plain": [
       "<IPython.core.display.Markdown object>"
      ]
     },
     "metadata": {},
     "output_type": "display_data"
    },
    {
     "data": {
      "text/markdown": [
       "An application for approval of reserved matters should be used after an outline planning application has been approved. A reserved matters application deals with some or all of the outstanding details of the outline application proposal, including: appearance, means of access, landscaping, layout and scale. (Regulation/Data)"
      ],
      "text/plain": [
       "<IPython.core.display.Markdown object>"
      ]
     },
     "metadata": {},
     "output_type": "display_data"
    },
    {
     "data": {
      "text/markdown": [
       "### Play streets"
      ],
      "text/plain": [
       "<IPython.core.display.Markdown object>"
      ]
     },
     "metadata": {},
     "output_type": "display_data"
    },
    {
     "data": {
      "text/markdown": [
       "Certain roads may be designated as children's play areas. Such roads may be closed to vehicles permanently or at certain times of day. Where roads are not closed they may be subject to reduced speed limits and traffic may have to give priority to children and pedestrians. (Regulation/Data, Placemaking)"
      ],
      "text/plain": [
       "<IPython.core.display.Markdown object>"
      ]
     },
     "metadata": {},
     "output_type": "display_data"
    },
    {
     "data": {
      "text/markdown": [
       "### Prior notification of development"
      ],
      "text/plain": [
       "<IPython.core.display.Markdown object>"
      ]
     },
     "metadata": {},
     "output_type": "display_data"
    },
    {
     "data": {
      "text/markdown": [
       "Some proposals for developments involving telecommunications, demolition, agriculture or forestry are subject to a process whereby details are notified to the local planning authority prior to the development taking place. (Regulation/Data)"
      ],
      "text/plain": [
       "<IPython.core.display.Markdown object>"
      ]
     },
     "metadata": {},
     "output_type": "display_data"
    },
    {
     "data": {
      "text/markdown": [
       "### Private car parks"
      ],
      "text/plain": [
       "<IPython.core.display.Markdown object>"
      ]
     },
     "metadata": {},
     "output_type": "display_data"
    },
    {
     "data": {
      "text/markdown": [
       "Car parks within a local authority geographic area which are owned and operated by private companies. The local authority ensures that they operate in accordance with authority parking policies. (Regulation/Data)"
      ],
      "text/plain": [
       "<IPython.core.display.Markdown object>"
      ]
     },
     "metadata": {},
     "output_type": "display_data"
    },
    {
     "data": {
      "text/markdown": [
       "### Private hire vehicle (minicab) licence"
      ],
      "text/plain": [
       "<IPython.core.display.Markdown object>"
      ]
     },
     "metadata": {},
     "output_type": "display_data"
    },
    {
     "data": {
      "text/markdown": [
       "Private hire vehicles (mini cabs) have to be licensed. Private hire vehicles are vehicles that cannot be hailed from the street, and journeys must be pre-booked. Vehicles must be tested and inspected before a licence can be issued to ensure that they are mechanically fit, safe and comfortable. (Regulation/Data)"
      ],
      "text/plain": [
       "<IPython.core.display.Markdown object>"
      ]
     },
     "metadata": {},
     "output_type": "display_data"
    },
    {
     "data": {
      "text/markdown": [
       "### Private rented housing inspections"
      ],
      "text/plain": [
       "<IPython.core.display.Markdown object>"
      ]
     },
     "metadata": {},
     "output_type": "display_data"
    },
    {
     "data": {
      "text/markdown": [
       "The housing health and safety rating system (HHSRS) is used during an inspection to ensure that private rented housing is safe for tenants. The council may decide to carry out an inspection at the request of tenants or because the council has done a survey of local properties and thinks your property might be hazardous. (Regulation/Data)"
      ],
      "text/plain": [
       "<IPython.core.display.Markdown object>"
      ]
     },
     "metadata": {},
     "output_type": "display_data"
    },
    {
     "data": {
      "text/markdown": [
       "### Property register"
      ],
      "text/plain": [
       "<IPython.core.display.Markdown object>"
      ]
     },
     "metadata": {},
     "output_type": "display_data"
    },
    {
     "data": {
      "text/markdown": [
       "Information about all publicly owned land and property which may be published or can be made available to the public on request. (Regulation/Data)"
      ],
      "text/plain": [
       "<IPython.core.display.Markdown object>"
      ]
     },
     "metadata": {},
     "output_type": "display_data"
    },
    {
     "data": {
      "text/markdown": [
       "### Prospectively maintainable highways"
      ],
      "text/plain": [
       "<IPython.core.display.Markdown object>"
      ]
     },
     "metadata": {},
     "output_type": "display_data"
    },
    {
     "data": {
      "text/markdown": [
       "A local authority may designate a private road as a prospectively maintainable highway which means that the council may adopt the road such that it is maintained at public expense.  The authority maintains a register of prospectively maintainable highways. (Regulation/Data)"
      ],
      "text/plain": [
       "<IPython.core.display.Markdown object>"
      ]
     },
     "metadata": {},
     "output_type": "display_data"
    },
    {
     "data": {
      "text/markdown": [
       "### Quality contract schemes for bus services"
      ],
      "text/plain": [
       "<IPython.core.display.Markdown object>"
      ]
     },
     "metadata": {},
     "output_type": "display_data"
    },
    {
     "data": {
      "text/markdown": [
       "Quality contract schemes are agreements between the council and local bus operators to improve the quality of services and facilities within the scheme area.  They may be between one council and a bus company or more than one of either.  Typically the council will undertake to provide bus priority measures, new bus stops and/or real time information systems.  In return bus operators provide new vehicles with improved levels of accessibility and environmental performance and/or enhanced driver training. They may also provide an enhanced level of service. (Regulation/Data)"
      ],
      "text/plain": [
       "<IPython.core.display.Markdown object>"
      ]
     },
     "metadata": {},
     "output_type": "display_data"
    },
    {
     "data": {
      "text/markdown": [
       "### Red routes"
      ],
      "text/plain": [
       "<IPython.core.display.Markdown object>"
      ]
     },
     "metadata": {},
     "output_type": "display_data"
    },
    {
     "data": {
      "text/markdown": [
       "On certain main roads yellow lines indicating a parking ban have been replaced by red lines (or alternative markings such as greenways etc.). Unlike yellow lines, alternative markings prohibit all stopping, parking and loading. Red routes are designed to ensure the free flow of traffic and that bus routes are kept clear at all times. (Regulation/Data)"
      ],
      "text/plain": [
       "<IPython.core.display.Markdown object>"
      ]
     },
     "metadata": {},
     "output_type": "display_data"
    },
    {
     "data": {
      "text/markdown": [
       "### Register of land"
      ],
      "text/plain": [
       "<IPython.core.display.Markdown object>"
      ]
     },
     "metadata": {},
     "output_type": "display_data"
    },
    {
     "data": {
      "text/markdown": [
       "A local planning authority in England may prepare, maintain and publish a register of land within (or partly within) the authority's area.  The criteria determining which land should be included may be determined by regulations. (Regulation/Data)"
      ],
      "text/plain": [
       "<IPython.core.display.Markdown object>"
      ]
     },
     "metadata": {},
     "output_type": "display_data"
    },
    {
     "data": {
      "text/markdown": [
       "### Removal/variation of planning conditions"
      ],
      "text/plain": [
       "<IPython.core.display.Markdown object>"
      ]
     },
     "metadata": {},
     "output_type": "display_data"
    },
    {
     "data": {
      "text/markdown": [
       "Where planning permission or listed building consent has previously been granted with conditions the applicant may apply to have one or more conditions removed or varied. (Regulation/Data)"
      ],
      "text/plain": [
       "<IPython.core.display.Markdown object>"
      ]
     },
     "metadata": {},
     "output_type": "display_data"
    },
    {
     "data": {
      "text/markdown": [
       "### Residential planning applications"
      ],
      "text/plain": [
       "<IPython.core.display.Markdown object>"
      ]
     },
     "metadata": {},
     "output_type": "display_data"
    },
    {
     "data": {
      "text/markdown": [
       "If a resident is thinking of making alterations to their house/flat they will need to consult the planning section to see if they require planning permission. Applicants will need planning permission if the applicant's property is a listed building, if the applicant is planning to alter or extend their home, if there is a change of use (working from home) and no longer a main home or if the applicant is interested in putting up a new home. \r\n",
       "In the UK, if planning permission is required, the resident must fill in the Standard Planning Application Form (1APP) and meet all of the Planning Application Requirements (PAR). (Regulation/Data, Placemaking)"
      ],
      "text/plain": [
       "<IPython.core.display.Markdown object>"
      ]
     },
     "metadata": {},
     "output_type": "display_data"
    },
    {
     "data": {
      "text/markdown": [
       "### Residential recycling collections"
      ],
      "text/plain": [
       "<IPython.core.display.Markdown object>"
      ]
     },
     "metadata": {},
     "output_type": "display_data"
    },
    {
     "data": {
      "text/markdown": [
       "The local authority provides a regular (usually weekly) collection of household items for recycling from residential premises within the authority boundaries. (Regulation/Data)"
      ],
      "text/plain": [
       "<IPython.core.display.Markdown object>"
      ]
     },
     "metadata": {},
     "output_type": "display_data"
    },
    {
     "data": {
      "text/markdown": [
       "### Road adoption"
      ],
      "text/plain": [
       "<IPython.core.display.Markdown object>"
      ]
     },
     "metadata": {},
     "output_type": "display_data"
    },
    {
     "data": {
      "text/markdown": [
       "New roads that have been constructed in accordance with the council's guidelines are normally adopted by way of an agreement between the developer and the council. Local authorities are obliged to publish a register of road adoptions and road works, which is available for public inspection. (Regulation/Data)"
      ],
      "text/plain": [
       "<IPython.core.display.Markdown object>"
      ]
     },
     "metadata": {},
     "output_type": "display_data"
    },
    {
     "data": {
      "text/markdown": [
       "### Road closures and diversions"
      ],
      "text/plain": [
       "<IPython.core.display.Markdown object>"
      ]
     },
     "metadata": {},
     "output_type": "display_data"
    },
    {
     "data": {
      "text/markdown": [
       "A traffic regulation order issued by the local authority where works on the highway, or some large deliveries, require a road to be closed temporarily to general traffic. (Regulation/Data)"
      ],
      "text/plain": [
       "<IPython.core.display.Markdown object>"
      ]
     },
     "metadata": {},
     "output_type": "display_data"
    },
    {
     "data": {
      "text/markdown": [
       "### Road congestion reduction"
      ],
      "text/plain": [
       "<IPython.core.display.Markdown object>"
      ]
     },
     "metadata": {},
     "output_type": "display_data"
    },
    {
     "data": {
      "text/markdown": [
       "Where traffic congestion is a particular problem schemes may be introduced to limit the amount of traffic in a specified area.  Examples of congestion reduction schemes include   'park and ride' and congestion charging zones. (Regulation/Data)"
      ],
      "text/plain": [
       "<IPython.core.display.Markdown object>"
      ]
     },
     "metadata": {},
     "output_type": "display_data"
    },
    {
     "data": {
      "text/markdown": [
       "### Road safety cameras"
      ],
      "text/plain": [
       "<IPython.core.display.Markdown object>"
      ]
     },
     "metadata": {},
     "output_type": "display_data"
    },
    {
     "data": {
      "text/markdown": [
       "Safety cameras are designed to detect and prevent speed limit offences and traffic signal violations, and provide evidence for a fixed penalty notice. (Regulation/Data)"
      ],
      "text/plain": [
       "<IPython.core.display.Markdown object>"
      ]
     },
     "metadata": {},
     "output_type": "display_data"
    },
    {
     "data": {
      "text/markdown": [
       "### Road surveys"
      ],
      "text/plain": [
       "<IPython.core.display.Markdown object>"
      ]
     },
     "metadata": {},
     "output_type": "display_data"
    },
    {
     "data": {
      "text/markdown": [
       "The council is responsible for carrying out repairs and for administering highway legislation. This includes planned and emergency maintenance, surveys and street works (Regulation/Data, Placemaking)"
      ],
      "text/plain": [
       "<IPython.core.display.Markdown object>"
      ]
     },
     "metadata": {},
     "output_type": "display_data"
    },
    {
     "data": {
      "text/markdown": [
       "### Roads enforcement"
      ],
      "text/plain": [
       "<IPython.core.display.Markdown object>"
      ]
     },
     "metadata": {},
     "output_type": "display_data"
    },
    {
     "data": {
      "text/markdown": [
       "The Council has a duty to protect the public rights on the road and footpath network. The effectiveness of legislation in protecting the public is dependent on the compliance of others. The local highways authority has a duty to maintain adopted highways to safe and serviceable standards (Services/Direct, Regulation/Data)"
      ],
      "text/plain": [
       "<IPython.core.display.Markdown object>"
      ]
     },
     "metadata": {},
     "output_type": "display_data"
    },
    {
     "data": {
      "text/markdown": [
       "### Roads weight limits"
      ],
      "text/plain": [
       "<IPython.core.display.Markdown object>"
      ]
     },
     "metadata": {},
     "output_type": "display_data"
    },
    {
     "data": {
      "text/markdown": [
       "The local authority can impose weight restrictions on public roads for structural or for environmental reasons. Such restrictions prevent large vehicles from using inappropriate roads, routes and areas.  It is the responsibility of the local authority to monitor and deal with abuse of any imposed weight restrictions. (Regulation/Data)"
      ],
      "text/plain": [
       "<IPython.core.display.Markdown object>"
      ]
     },
     "metadata": {},
     "output_type": "display_data"
    },
    {
     "data": {
      "text/markdown": [
       "### Selective housing areas"
      ],
      "text/plain": [
       "<IPython.core.display.Markdown object>"
      ]
     },
     "metadata": {},
     "output_type": "display_data"
    },
    {
     "data": {
      "text/markdown": [
       "Selective licensing gives local councils powers to regulate landlords and managing agents of private rented property in certain areas.   A council can designate any part of their local area as a selective licensing area with the aim of addressing the impact that rogue landlords and  anti-social tenants can have on a wider community. (Regulation/Data)"
      ],
      "text/plain": [
       "<IPython.core.display.Markdown object>"
      ]
     },
     "metadata": {},
     "output_type": "display_data"
    },
    {
     "data": {
      "text/markdown": [
       "### Smoke control areas"
      ],
      "text/plain": [
       "<IPython.core.display.Markdown object>"
      ]
     },
     "metadata": {},
     "output_type": "display_data"
    },
    {
     "data": {
      "text/markdown": [
       "Local authorities may declare the whole or part of the district of the authority to be a Smoke Control Area. It is an offence to emit smoke from a chimney of a building, (commercial or residential), from a furnace or from any fixed boiler if located in a designated smoke control area. It is also an offence to acquire an 'unauthorised fuel' for use within a Smoke Control Area unless it is used in an 'exempt' appliance ('exempted' from the controls which generally apply in the smoke control area). (Regulation/Data)"
      ],
      "text/plain": [
       "<IPython.core.display.Markdown object>"
      ]
     },
     "metadata": {},
     "output_type": "display_data"
    },
    {
     "data": {
      "text/markdown": [
       "### Solvent emissions regulation"
      ],
      "text/plain": [
       "<IPython.core.display.Markdown object>"
      ]
     },
     "metadata": {},
     "output_type": "display_data"
    },
    {
     "data": {
      "text/markdown": [
       "Anyone wishing to operate an installation where such operation results in the emission of volatile organic compounds into the atmosphere requires a permit. (Regulation/Data)"
      ],
      "text/plain": [
       "<IPython.core.display.Markdown object>"
      ]
     },
     "metadata": {},
     "output_type": "display_data"
    },
    {
     "data": {
      "text/markdown": [
       "### Speed humps"
      ],
      "text/plain": [
       "<IPython.core.display.Markdown object>"
      ]
     },
     "metadata": {},
     "output_type": "display_data"
    },
    {
     "data": {
      "text/markdown": [
       "In areas where excessive speed is considered a risk to public safety the local authority may construct 'speed humps' for the purpose of reducing traffic speeds.  Speed humps are typically constructed in residential roads and in areas where there may be a large amount of pedestrian traffic (such as near school entrances). The local authority makes provision for speed road humps to reduce speeds and improve safety of residential roads. (Regulation/Data)"
      ],
      "text/plain": [
       "<IPython.core.display.Markdown object>"
      ]
     },
     "metadata": {},
     "output_type": "display_data"
    },
    {
     "data": {
      "text/markdown": [
       "### Speed limits"
      ],
      "text/plain": [
       "<IPython.core.display.Markdown object>"
      ]
     },
     "metadata": {},
     "output_type": "display_data"
    },
    {
     "data": {
      "text/markdown": [
       "The local authority (often with the local police) is responsible for setting speed limits on roads within their area.  In setting a speed limit the authority will consider the alignment of the road , the speed most motorists expect to travel along this road and the type of road and where it is located.  Applications to revise speed limits may be considered by the authority. (Regulation/Data)"
      ],
      "text/plain": [
       "<IPython.core.display.Markdown object>"
      ]
     },
     "metadata": {},
     "output_type": "display_data"
    },
    {
     "data": {
      "text/markdown": [
       "### Statutory nuisances"
      ],
      "text/plain": [
       "<IPython.core.display.Markdown object>"
      ]
     },
     "metadata": {},
     "output_type": "display_data"
    },
    {
     "data": {
      "text/markdown": [
       "In the event of justified complaint of statutory nuisance such as emissions of smoke, fumes or gases, dust, steam and smell a penalty notice will be served upon the person responsible by the local authority. (Regulation/Data)"
      ],
      "text/plain": [
       "<IPython.core.display.Markdown object>"
      ]
     },
     "metadata": {},
     "output_type": "display_data"
    },
    {
     "data": {
      "text/markdown": [
       "### Stopping up orders"
      ],
      "text/plain": [
       "<IPython.core.display.Markdown object>"
      ]
     },
     "metadata": {},
     "output_type": "display_data"
    },
    {
     "data": {
      "text/markdown": [
       "Roads may be closed permanently either because they are not necessary, a better route will replace it or to allow a new development with planning permission to be built. (Regulation/Data, Placemaking)"
      ],
      "text/plain": [
       "<IPython.core.display.Markdown object>"
      ]
     },
     "metadata": {},
     "output_type": "display_data"
    },
    {
     "data": {
      "text/markdown": [
       "### Street parking enforcement"
      ],
      "text/plain": [
       "<IPython.core.display.Markdown object>"
      ]
     },
     "metadata": {},
     "output_type": "display_data"
    },
    {
     "data": {
      "text/markdown": [
       "Enforcement of on street parking regulations (meters, residential parking bays, yellow lines etc.) within the local authority area.  The council may issue illegally parked vehicles with a ticket and impose fines. (Regulation/Data)"
      ],
      "text/plain": [
       "<IPython.core.display.Markdown object>"
      ]
     },
     "metadata": {},
     "output_type": "display_data"
    },
    {
     "data": {
      "text/markdown": [
       "### Street trading licence"
      ],
      "text/plain": [
       "<IPython.core.display.Markdown object>"
      ]
     },
     "metadata": {},
     "output_type": "display_data"
    },
    {
     "data": {
      "text/markdown": [
       "Consent to trade is required for all street trading activities such as hot food vehicles, ice cream vans and flower stalls. Food business may be subject to inspection and permission to site a mobile stall will be required from the relevant authority and from the landowner. (Regulation/Data)"
      ],
      "text/plain": [
       "<IPython.core.display.Markdown object>"
      ]
     },
     "metadata": {},
     "output_type": "display_data"
    },
    {
     "data": {
      "text/markdown": [
       "### Sustainable drainage systems"
      ],
      "text/plain": [
       "<IPython.core.display.Markdown object>"
      ]
     },
     "metadata": {},
     "output_type": "display_data"
    },
    {
     "data": {
      "text/markdown": [
       "Regulating and maintaining Sustainable Drainages Systems (SUDS) .  Approving and maintaining surface water drainage systems on new developments and providing developers with advice on sustainable drainage. (Regulation/Data)"
      ],
      "text/plain": [
       "<IPython.core.display.Markdown object>"
      ]
     },
     "metadata": {},
     "output_type": "display_data"
    },
    {
     "data": {
      "text/markdown": [
       "### Taxi fare setting"
      ],
      "text/plain": [
       "<IPython.core.display.Markdown object>"
      ]
     },
     "metadata": {},
     "output_type": "display_data"
    },
    {
     "data": {
      "text/markdown": [
       "The local authority is responsible for setting the level of Hackney Carriage (taxi) fares for licensed taxis in the LA area. (Regulation/Data)"
      ],
      "text/plain": [
       "<IPython.core.display.Markdown object>"
      ]
     },
     "metadata": {},
     "output_type": "display_data"
    },
    {
     "data": {
      "text/markdown": [
       "### Taxi ranks"
      ],
      "text/plain": [
       "<IPython.core.display.Markdown object>"
      ]
     },
     "metadata": {},
     "output_type": "display_data"
    },
    {
     "data": {
      "text/markdown": [
       "Provision of designated taxi ranks at key areas within the authority boundaries.  Taxi ranks should be sited so that passengers board or alight from the taxi onto the footway on the nearside of the vehicle. (Regulation/Data, Placemaking)"
      ],
      "text/plain": [
       "<IPython.core.display.Markdown object>"
      ]
     },
     "metadata": {},
     "output_type": "display_data"
    },
    {
     "data": {
      "text/markdown": [
       "### Tenant housing alterations"
      ],
      "text/plain": [
       "<IPython.core.display.Markdown object>"
      ]
     },
     "metadata": {},
     "output_type": "display_data"
    },
    {
     "data": {
      "text/markdown": [
       "A tenant who wishes to carry out improvements and alterations to their local authority property must request permission from the local authority. (Regulation/Data)"
      ],
      "text/plain": [
       "<IPython.core.display.Markdown object>"
      ]
     },
     "metadata": {},
     "output_type": "display_data"
    },
    {
     "data": {
      "text/markdown": [
       "### Traffic lights"
      ],
      "text/plain": [
       "<IPython.core.display.Markdown object>"
      ]
     },
     "metadata": {},
     "output_type": "display_data"
    },
    {
     "data": {
      "text/markdown": [
       "Placement and maintenance of traffic lights to improve traffic safety and help reduce road accidents and hazards. (Regulation/Data)"
      ],
      "text/plain": [
       "<IPython.core.display.Markdown object>"
      ]
     },
     "metadata": {},
     "output_type": "display_data"
    },
    {
     "data": {
      "text/markdown": [
       "### Traffic schemes"
      ],
      "text/plain": [
       "<IPython.core.display.Markdown object>"
      ]
     },
     "metadata": {},
     "output_type": "display_data"
    },
    {
     "data": {
      "text/markdown": [
       "The local authority is responsible for proposing and implementing traffic schemes to reduce road accidents and congestion on roads in the local area.  Local residents/businesses may apply to the authority for a review of traffic where they believe there is a problem. (Regulation/Data, Placemaking)"
      ],
      "text/plain": [
       "<IPython.core.display.Markdown object>"
      ]
     },
     "metadata": {},
     "output_type": "display_data"
    },
    {
     "data": {
      "text/markdown": [
       "### Tree preservation orders"
      ],
      "text/plain": [
       "<IPython.core.display.Markdown object>"
      ]
     },
     "metadata": {},
     "output_type": "display_data"
    },
    {
     "data": {
      "text/markdown": [
       "Tree Preservation Orders are made by a Planning Authority. They are an effective means of protecting individual trees, groups of trees or woodlands whose removal would have significant impact on the public amenity of an area. They form a legal constraint permanently attached to the title of the land where the trees are located. (Regulation/Data)"
      ],
      "text/plain": [
       "<IPython.core.display.Markdown object>"
      ]
     },
     "metadata": {},
     "output_type": "display_data"
    },
    {
     "data": {
      "text/markdown": [
       "### Water pollution"
      ],
      "text/plain": [
       "<IPython.core.display.Markdown object>"
      ]
     },
     "metadata": {},
     "output_type": "display_data"
    },
    {
     "data": {
      "text/markdown": [
       "Working with the Environment Agency in a number of ways to prevent or control pollution. This is done by prompt reporting of incidents, ensuring that emissions from industries controlled by the Council are properly controlled and by preventing pollution of water by dealing with any contamination of land. (Regulation/Data)"
      ],
      "text/plain": [
       "<IPython.core.display.Markdown object>"
      ]
     },
     "metadata": {},
     "output_type": "display_data"
    },
    {
     "data": {
      "text/markdown": [
       "### Water quality monitoring"
      ],
      "text/plain": [
       "<IPython.core.display.Markdown object>"
      ]
     },
     "metadata": {},
     "output_type": "display_data"
    },
    {
     "data": {
      "text/markdown": [
       "The local authority has a responsibility to monitor the quality of water in rivers, lakes, estuaries, coastal waters and groundwater. This includes issues such as sewage treatment and disposal, bathing waters, dangerous substances, nitrates from agricultural sources, and economic instruments for water pollution. (Regulation/Data)"
      ],
      "text/plain": [
       "<IPython.core.display.Markdown object>"
      ]
     },
     "metadata": {},
     "output_type": "display_data"
    },
    {
     "data": {
      "text/markdown": [
       "### Weights and measures"
      ],
      "text/plain": [
       "<IPython.core.display.Markdown object>"
      ]
     },
     "metadata": {},
     "output_type": "display_data"
    },
    {
     "data": {
      "text/markdown": [
       "Trading Standards are required to ensure that all goods sold are correctly weighed and measured in accordance with current legislation.  This is done by checking the accuracy of weighing/measuring equipment regularly, checking goods in stock are of the correct weight, investigating complaints of short measure. (Regulation/Data)"
      ],
      "text/plain": [
       "<IPython.core.display.Markdown object>"
      ]
     },
     "metadata": {},
     "output_type": "display_data"
    },
    {
     "data": {
      "text/markdown": [
       "### Yellow lines"
      ],
      "text/plain": [
       "<IPython.core.display.Markdown object>"
      ]
     },
     "metadata": {},
     "output_type": "display_data"
    },
    {
     "data": {
      "text/markdown": [
       "The local authority authorise yellow line road marking where there is a need to restrict parking to help increase traffic flow and to prevent obstructions on the highway. (Regulation/Data, Placemaking)"
      ],
      "text/plain": [
       "<IPython.core.display.Markdown object>"
      ]
     },
     "metadata": {},
     "output_type": "display_data"
    },
    {
     "data": {
      "text/markdown": [
       "## Placemaking"
      ],
      "text/plain": [
       "<IPython.core.display.Markdown object>"
      ]
     },
     "metadata": {},
     "output_type": "display_data"
    },
    {
     "data": {
      "text/markdown": [
       "### Building and landscape design"
      ],
      "text/plain": [
       "<IPython.core.display.Markdown object>"
      ]
     },
     "metadata": {},
     "output_type": "display_data"
    },
    {
     "data": {
      "text/markdown": [
       "Ensuring that new development meets local criteria in respect of land use, practicality (drainage, parking, access etc.) and environmental considerations. (Placemaking)"
      ],
      "text/plain": [
       "<IPython.core.display.Markdown object>"
      ]
     },
     "metadata": {},
     "output_type": "display_data"
    },
    {
     "data": {
      "text/markdown": [
       "### Business improvement districts (BID)"
      ],
      "text/plain": [
       "<IPython.core.display.Markdown object>"
      ]
     },
     "metadata": {},
     "output_type": "display_data"
    },
    {
     "data": {
      "text/markdown": [
       "A business improvement district (BID) is a defined area within which businesses pay an additional tax (or levy) in order to fund projects within the district's boundaries. The BID is often funded primarily through the levy but can also draw on other public and private funding streams. BIDs provide services, such as cleaning streets, providing security, making capital improvements, construction of pedestrian and streetscape enhancements, and marketing the area. The services provided by BIDs are supplemental to those already provided by the Local Authority. (Placemaking)"
      ],
      "text/plain": [
       "<IPython.core.display.Markdown object>"
      ]
     },
     "metadata": {},
     "output_type": "display_data"
    },
    {
     "data": {
      "text/markdown": [
       "### Business travel and commuting"
      ],
      "text/plain": [
       "<IPython.core.display.Markdown object>"
      ]
     },
     "metadata": {},
     "output_type": "display_data"
    },
    {
     "data": {
      "text/markdown": [
       "The purpose of a business transport plan is to promote alternative methods of transport (e.g. bicycles, public transport, car pools ..) for home-to-work commuting  or the personnel of  the town itself as well as for the staff of companies/establishments. This is possible by giving information and pointing out the alternative methods of transport for the home-work commute and by stimulating alternative methods of transport in home to work commuting. (Placemaking)"
      ],
      "text/plain": [
       "<IPython.core.display.Markdown object>"
      ]
     },
     "metadata": {},
     "output_type": "display_data"
    },
    {
     "data": {
      "text/markdown": [
       "### Byelaws and regulations"
      ],
      "text/plain": [
       "<IPython.core.display.Markdown object>"
      ]
     },
     "metadata": {},
     "output_type": "display_data"
    },
    {
     "data": {
      "text/markdown": [
       "A local administration may create and publish laws and regulations applying to their local area which are legally binding.  Such byelaws cannot be in direct contravention of any national law. (Placemaking)"
      ],
      "text/plain": [
       "<IPython.core.display.Markdown object>"
      ]
     },
     "metadata": {},
     "output_type": "display_data"
    },
    {
     "data": {
      "text/markdown": [
       "### Community facility grants"
      ],
      "text/plain": [
       "<IPython.core.display.Markdown object>"
      ]
     },
     "metadata": {},
     "output_type": "display_data"
    },
    {
     "data": {
      "text/markdown": [
       "Provision of grants for improvements to village halls and other local facilities subject to local terms and conditions. (Placemaking)"
      ],
      "text/plain": [
       "<IPython.core.display.Markdown object>"
      ]
     },
     "metadata": {},
     "output_type": "display_data"
    },
    {
     "data": {
      "text/markdown": [
       "### Community grants"
      ],
      "text/plain": [
       "<IPython.core.display.Markdown object>"
      ]
     },
     "metadata": {},
     "output_type": "display_data"
    },
    {
     "data": {
      "text/markdown": [
       "Funding made available to community or voluntary groups and organisations which are based in the local area and/or provide services to local people.  (Placemaking)"
      ],
      "text/plain": [
       "<IPython.core.display.Markdown object>"
      ]
     },
     "metadata": {},
     "output_type": "display_data"
    },
    {
     "data": {
      "text/markdown": [
       "### Community infrastructure levy (CIL)"
      ],
      "text/plain": [
       "<IPython.core.display.Markdown object>"
      ]
     },
     "metadata": {},
     "output_type": "display_data"
    },
    {
     "data": {
      "text/markdown": [
       "The Community Infrastructure Levy (CIL) is a planning charge that Local Authorities and the Mayor of London can set on new development to help pay for community infrastructure. (Placemaking)"
      ],
      "text/plain": [
       "<IPython.core.display.Markdown object>"
      ]
     },
     "metadata": {},
     "output_type": "display_data"
    },
    {
     "data": {
      "text/markdown": [
       "### Construction site pollution"
      ],
      "text/plain": [
       "<IPython.core.display.Markdown object>"
      ]
     },
     "metadata": {},
     "output_type": "display_data"
    },
    {
     "data": {
      "text/markdown": [
       "Advice and information for developers and for the local community on risks of pollution from construction work. The local authority will monitor construction work to minimise pollution caused by noise, dust and other nuisances. (Placemaking)"
      ],
      "text/plain": [
       "<IPython.core.display.Markdown object>"
      ]
     },
     "metadata": {},
     "output_type": "display_data"
    },
    {
     "data": {
      "text/markdown": [
       "### Countryside conservation"
      ],
      "text/plain": [
       "<IPython.core.display.Markdown object>"
      ]
     },
     "metadata": {},
     "output_type": "display_data"
    },
    {
     "data": {
      "text/markdown": [
       "Advice, education and volunteer opportunities related to the protection and enhancement of the local natural environment and wildlife.  Grants may also be provided to develop areas of the countryside for public use and education. (Placemaking)"
      ],
      "text/plain": [
       "<IPython.core.display.Markdown object>"
      ]
     },
     "metadata": {},
     "output_type": "display_data"
    },
    {
     "data": {
      "text/markdown": [
       "### Countryside management"
      ],
      "text/plain": [
       "<IPython.core.display.Markdown object>"
      ]
     },
     "metadata": {},
     "output_type": "display_data"
    },
    {
     "data": {
      "text/markdown": [
       "Countryside Management Projects care for the countryside through practical action. They rely on the active involvement of local communities - enabling people to play a vital part in looking after their local environment. Countryside Management focuses on nature conservation, access and informal recreation issues. (Placemaking)"
      ],
      "text/plain": [
       "<IPython.core.display.Markdown object>"
      ]
     },
     "metadata": {},
     "output_type": "display_data"
    },
    {
     "data": {
      "text/markdown": [
       "### Cycling and walking to school schemes"
      ],
      "text/plain": [
       "<IPython.core.display.Markdown object>"
      ]
     },
     "metadata": {},
     "output_type": "display_data"
    },
    {
     "data": {
      "text/markdown": [
       "Promotion of safer, more environmentally sustainable and healthier ways of getting to and from school with particular emphasis on walking and cycling. (Placemaking)"
      ],
      "text/plain": [
       "<IPython.core.display.Markdown object>"
      ]
     },
     "metadata": {},
     "output_type": "display_data"
    },
    {
     "data": {
      "text/markdown": [
       "### Cycling schemes"
      ],
      "text/plain": [
       "<IPython.core.display.Markdown object>"
      ]
     },
     "metadata": {},
     "output_type": "display_data"
    },
    {
     "data": {
      "text/markdown": [
       "Schemes which promote the use of cycling as a method of transport within the local area.  Such schemes typically consider reduction in vehicle traffic, cycle routes, cyclist safety, cycle parking facilities.  In some cases schemes may also include a discount or tax reduction on the purchase of a bicycle.  (Placemaking)"
      ],
      "text/plain": [
       "<IPython.core.display.Markdown object>"
      ]
     },
     "metadata": {},
     "output_type": "display_data"
    },
    {
     "data": {
      "text/markdown": [
       "### Dangerous road improvements"
      ],
      "text/plain": [
       "<IPython.core.display.Markdown object>"
      ]
     },
     "metadata": {},
     "output_type": "display_data"
    },
    {
     "data": {
      "text/markdown": [
       "The Council should have a continuing programme of schemes to improve the safety and operation of the highway network. Many of these schemes originate from requests made by the public.  As well as concerns about the safety of individual road junctions, there are requests for pedestrian crossing facilities, speed restraint measures (such as road humps), and minor issues such as new warning signs. (Placemaking)"
      ],
      "text/plain": [
       "<IPython.core.display.Markdown object>"
      ]
     },
     "metadata": {},
     "output_type": "display_data"
    },
    {
     "data": {
      "text/markdown": [
       "### Economic information and analysis"
      ],
      "text/plain": [
       "<IPython.core.display.Markdown object>"
      ]
     },
     "metadata": {},
     "output_type": "display_data"
    },
    {
     "data": {
      "text/markdown": [
       "Publishing details of a wide range of information covering aspects of the areas economy including statistics and key facts on economic strategy, trends and forecasting, the local labour market and area profiles. (Placemaking)"
      ],
      "text/plain": [
       "<IPython.core.display.Markdown object>"
      ]
     },
     "metadata": {},
     "output_type": "display_data"
    },
    {
     "data": {
      "text/markdown": [
       "### Economic reports and forecasts"
      ],
      "text/plain": [
       "<IPython.core.display.Markdown object>"
      ]
     },
     "metadata": {},
     "output_type": "display_data"
    },
    {
     "data": {
      "text/markdown": [
       "Working with local organisations to increase employment, encourage business growth and investment and tackle economic disadvantage by improving understanding of the economy, and identifying the issues facing the local population and workforce.  In England and Wales organisations can include the local Chamber of Commerce, Business Link, Job Centre etc. and in Scotland, Scottish Enterprise (Placemaking)"
      ],
      "text/plain": [
       "<IPython.core.display.Markdown object>"
      ]
     },
     "metadata": {},
     "output_type": "display_data"
    },
    {
     "data": {
      "text/markdown": [
       "### Environmental policy"
      ],
      "text/plain": [
       "<IPython.core.display.Markdown object>"
      ]
     },
     "metadata": {},
     "output_type": "display_data"
    },
    {
     "data": {
      "text/markdown": [
       "The local authority is committed to sustainable development through its local UN agenda 21 process in which it continuously improves its services, policies and practices to contribute to a better quality of life. \r\n",
       "In the UK Agenda 21 covers social progress, environmental protection, use of natural resources and economic growth. (Services/Direct, Placemaking)"
      ],
      "text/plain": [
       "<IPython.core.display.Markdown object>"
      ]
     },
     "metadata": {},
     "output_type": "display_data"
    },
    {
     "data": {
      "text/markdown": [
       "### Farming advice"
      ],
      "text/plain": [
       "<IPython.core.display.Markdown object>"
      ]
     },
     "metadata": {},
     "output_type": "display_data"
    },
    {
     "data": {
      "text/markdown": [
       "Provision of information and advice to farmers or prospective farmers.  Anyone who owns livestock has many legal responsibilities and the local authority can provide information on what is required under this legislation and to provide a contact for further, more specialised guidance and information if required. (Placemaking)"
      ],
      "text/plain": [
       "<IPython.core.display.Markdown object>"
      ]
     },
     "metadata": {},
     "output_type": "display_data"
    },
    {
     "data": {
      "text/markdown": [
       "### Forest and woodland management"
      ],
      "text/plain": [
       "<IPython.core.display.Markdown object>"
      ]
     },
     "metadata": {},
     "output_type": "display_data"
    },
    {
     "data": {
      "text/markdown": [
       "Advice and information on trees, woodland and tree-related issues to local organisations and the public.  Where woodland/forests are on council owned land the local authority has a responsibility to maintain them in a way which is beneficial to the local environment and ensures public safety. (Placemaking)"
      ],
      "text/plain": [
       "<IPython.core.display.Markdown object>"
      ]
     },
     "metadata": {},
     "output_type": "display_data"
    },
    {
     "data": {
      "text/markdown": [
       "### Home improvement loans"
      ],
      "text/plain": [
       "<IPython.core.display.Markdown object>"
      ]
     },
     "metadata": {},
     "output_type": "display_data"
    },
    {
     "data": {
      "text/markdown": [
       "Local authorities may provide financial assistance (in the form of a mortgage or secured loan) to existing or prospective homeowners to enable them to carry out improvements and repairs on their property. (Placemaking)"
      ],
      "text/plain": [
       "<IPython.core.display.Markdown object>"
      ]
     },
     "metadata": {},
     "output_type": "display_data"
    },
    {
     "data": {
      "text/markdown": [
       "### Home renovation grants"
      ],
      "text/plain": [
       "<IPython.core.display.Markdown object>"
      ]
     },
     "metadata": {},
     "output_type": "display_data"
    },
    {
     "data": {
      "text/markdown": [
       "Home renovation grants may be available to repair or improve privately owned dwellings and to bring empty properties back into use. (Placemaking)"
      ],
      "text/plain": [
       "<IPython.core.display.Markdown object>"
      ]
     },
     "metadata": {},
     "output_type": "display_data"
    },
    {
     "data": {
      "text/markdown": [
       "### Housing advice"
      ],
      "text/plain": [
       "<IPython.core.display.Markdown object>"
      ]
     },
     "metadata": {},
     "output_type": "display_data"
    },
    {
     "data": {
      "text/markdown": [
       "Advice to homeowners, tenants and landlords in the private sector on housing related matters such as tenancies, welfare benefits, rent, alterations and repairs, neighbour disputes etc. (Placemaking)"
      ],
      "text/plain": [
       "<IPython.core.display.Markdown object>"
      ]
     },
     "metadata": {},
     "output_type": "display_data"
    },
    {
     "data": {
      "text/markdown": [
       "### Housing and public health"
      ],
      "text/plain": [
       "<IPython.core.display.Markdown object>"
      ]
     },
     "metadata": {},
     "output_type": "display_data"
    },
    {
     "data": {
      "text/markdown": [
       "Providing advice and information to the public on all aspects of public health relating to housing.  Enforcement of public health and housing regulations. (Placemaking)"
      ],
      "text/plain": [
       "<IPython.core.display.Markdown object>"
      ]
     },
     "metadata": {},
     "output_type": "display_data"
    },
    {
     "data": {
      "text/markdown": [
       "### Journey planning"
      ],
      "text/plain": [
       "<IPython.core.display.Markdown object>"
      ]
     },
     "metadata": {},
     "output_type": "display_data"
    },
    {
     "data": {
      "text/markdown": [
       "Providing members of the public with a means to plan a journey to and from any address or station (bus or rail) within the local area.  The planner usually includes all forms of public transport ( often including walking) and calculates the journey based on departure and arrival times. (Services/Direct, Placemaking)"
      ],
      "text/plain": [
       "<IPython.core.display.Markdown object>"
      ]
     },
     "metadata": {},
     "output_type": "display_data"
    },
    {
     "data": {
      "text/markdown": [
       "### Land reclamation"
      ],
      "text/plain": [
       "<IPython.core.display.Markdown object>"
      ]
     },
     "metadata": {},
     "output_type": "display_data"
    },
    {
     "data": {
      "text/markdown": [
       "Promoting the reclamation or improvement of derelict, neglected or unsightly land utilising grants.  The council's role is to facilitate reclamation projects as they are often central to the regeneration of the economy. The council selects, determines the priorities, and provides finance at an appropriate level for these projects.  The council is responsible for the implementation of its reclamation schemes. (Placemaking)"
      ],
      "text/plain": [
       "<IPython.core.display.Markdown object>"
      ]
     },
     "metadata": {},
     "output_type": "display_data"
    },
    {
     "data": {
      "text/markdown": [
       "### Land use proposals"
      ],
      "text/plain": [
       "<IPython.core.display.Markdown object>"
      ]
     },
     "metadata": {},
     "output_type": "display_data"
    },
    {
     "data": {
      "text/markdown": [
       "The local authority decides on the use to which local land can be put in accordance with their economic, planning and environmental strategies.  Any proposals for change in use of land have to be approved by the local planning department. (Placemaking)"
      ],
      "text/plain": [
       "<IPython.core.display.Markdown object>"
      ]
     },
     "metadata": {},
     "output_type": "display_data"
    },
    {
     "data": {
      "text/markdown": [
       "### Landscape character assessment"
      ],
      "text/plain": [
       "<IPython.core.display.Markdown object>"
      ]
     },
     "metadata": {},
     "output_type": "display_data"
    },
    {
     "data": {
      "text/markdown": [
       "The landscape character assessment involves systematic analysis, description and classification of the landscape. This helps develop appropriate recommendations for its future conservation and management. (Placemaking)"
      ],
      "text/plain": [
       "<IPython.core.display.Markdown object>"
      ]
     },
     "metadata": {},
     "output_type": "display_data"
    },
    {
     "data": {
      "text/markdown": [
       "### Listed building consent"
      ],
      "text/plain": [
       "<IPython.core.display.Markdown object>"
      ]
     },
     "metadata": {},
     "output_type": "display_data"
    },
    {
     "data": {
      "text/markdown": [
       "A 'listed building' is a building, object or structure that has been judged to be of national historical or architectural interest.  The council are responsible for considering applications to demolish a listed building or for any alteration or extension which would affect its character as a building of architectural or historic interest (Regulation/Data, Placemaking)"
      ],
      "text/plain": [
       "<IPython.core.display.Markdown object>"
      ]
     },
     "metadata": {},
     "output_type": "display_data"
    },
    {
     "data": {
      "text/markdown": [
       "### Local access forums"
      ],
      "text/plain": [
       "<IPython.core.display.Markdown object>"
      ]
     },
     "metadata": {},
     "output_type": "display_data"
    },
    {
     "data": {
      "text/markdown": [
       "A Local Access Forum is used to advise the local authority and others on improving access to the countryside. Local authorities, highways authorities and any national park (or similar) authorities in an area are required to set up such a forum for their area. (Placemaking)"
      ],
      "text/plain": [
       "<IPython.core.display.Markdown object>"
      ]
     },
     "metadata": {},
     "output_type": "display_data"
    },
    {
     "data": {
      "text/markdown": [
       "### Local Development Framework"
      ],
      "text/plain": [
       "<IPython.core.display.Markdown object>"
      ]
     },
     "metadata": {},
     "output_type": "display_data"
    },
    {
     "data": {
      "text/markdown": [
       "The Local Development Framework provides the planning framework for the consideration of planning applications within a local authority area. (Placemaking)"
      ],
      "text/plain": [
       "<IPython.core.display.Markdown object>"
      ]
     },
     "metadata": {},
     "output_type": "display_data"
    },
    {
     "data": {
      "text/markdown": [
       "### Local economic development"
      ],
      "text/plain": [
       "<IPython.core.display.Markdown object>"
      ]
     },
     "metadata": {},
     "output_type": "display_data"
    },
    {
     "data": {
      "text/markdown": [
       "Programmes to develop and regenerate the local economy and community, with key objectives being to create employment opportunities and secure external funding for the benefit of the area. Active promotion of the area, offering business development and support, and attempting to remove barriers to investment. (Placemaking)"
      ],
      "text/plain": [
       "<IPython.core.display.Markdown object>"
      ]
     },
     "metadata": {},
     "output_type": "display_data"
    },
    {
     "data": {
      "text/markdown": [
       "### Local plans"
      ],
      "text/plain": [
       "<IPython.core.display.Markdown object>"
      ]
     },
     "metadata": {},
     "output_type": "display_data"
    },
    {
     "data": {
      "text/markdown": [
       "The local authority prepares local plans to address conservation and development issues and set out policies on these matters. Local plans provide the basis for making decisions on planning applications. (Placemaking)"
      ],
      "text/plain": [
       "<IPython.core.display.Markdown object>"
      ]
     },
     "metadata": {},
     "output_type": "display_data"
    },
    {
     "data": {
      "text/markdown": [
       "### Municipal golf courses"
      ],
      "text/plain": [
       "<IPython.core.display.Markdown object>"
      ]
     },
     "metadata": {},
     "output_type": "display_data"
    },
    {
     "data": {
      "text/markdown": [
       "Golf courses which are owned and run by the local authority.  Members of the public are usually able to 'pay and play' on these courses or to book tee times in advance.  Municipal golf courses may also have their own membership schemes and tee times reserved for members. (Services/Direct, Placemaking)"
      ],
      "text/plain": [
       "<IPython.core.display.Markdown object>"
      ]
     },
     "metadata": {},
     "output_type": "display_data"
    },
    {
     "data": {
      "text/markdown": [
       "### Nature reserves"
      ],
      "text/plain": [
       "<IPython.core.display.Markdown object>"
      ]
     },
     "metadata": {},
     "output_type": "display_data"
    },
    {
     "data": {
      "text/markdown": [
       "Local nature reserves where wildlife is protected. Nature reserves are usually open to the public but may have restrictions at certain times or under other conditions (no bicycles, dogs etc.) to protect the wildlife (Services/Direct, Placemaking)"
      ],
      "text/plain": [
       "<IPython.core.display.Markdown object>"
      ]
     },
     "metadata": {},
     "output_type": "display_data"
    },
    {
     "data": {
      "text/markdown": [
       "### Neighbourhood development order"
      ],
      "text/plain": [
       "<IPython.core.display.Markdown object>"
      ]
     },
     "metadata": {},
     "output_type": "display_data"
    },
    {
     "data": {
      "text/markdown": [
       "A Neighbourhood Development Order can enable the community to grant planning permission for new buildings they want to see go ahead and allow new homes and offices to be built without developers having to apply for separate planning permission. (Placemaking)"
      ],
      "text/plain": [
       "<IPython.core.display.Markdown object>"
      ]
     },
     "metadata": {},
     "output_type": "display_data"
    },
    {
     "data": {
      "text/markdown": [
       "### Neighbourhood planning"
      ],
      "text/plain": [
       "<IPython.core.display.Markdown object>"
      ]
     },
     "metadata": {},
     "output_type": "display_data"
    },
    {
     "data": {
      "text/markdown": [
       "An area can be designated as a neighbourhood planning area at the request of a parish / town council, prospective neighbourhood forum or community organisation following agreement by the local planning authority and consultation with the local community (residential and business if relevant).  The relevant organisation prepares a plan or Order which is then independently assessed.  A referendum is then conducted and if the plan or order is accepted the local planning authority make the plan or Order. (Placemaking)"
      ],
      "text/plain": [
       "<IPython.core.display.Markdown object>"
      ]
     },
     "metadata": {},
     "output_type": "display_data"
    },
    {
     "data": {
      "text/markdown": [
       "### News and information releases"
      ],
      "text/plain": [
       "<IPython.core.display.Markdown object>"
      ]
     },
     "metadata": {},
     "output_type": "display_data"
    },
    {
     "data": {
      "text/markdown": [
       "Publication of the latest news and public information relevant to the local area. (Placemaking)"
      ],
      "text/plain": [
       "<IPython.core.display.Markdown object>"
      ]
     },
     "metadata": {},
     "output_type": "display_data"
    },
    {
     "data": {
      "text/markdown": [
       "### Outdoor activities"
      ],
      "text/plain": [
       "<IPython.core.display.Markdown object>"
      ]
     },
     "metadata": {},
     "output_type": "display_data"
    },
    {
     "data": {
      "text/markdown": [
       "Organised group outdoor activities encouraging local residents to keep active.  Groups may be restricted by age or ability for some activities. (Placemaking)"
      ],
      "text/plain": [
       "<IPython.core.display.Markdown object>"
      ]
     },
     "metadata": {},
     "output_type": "display_data"
    },
    {
     "data": {
      "text/markdown": [
       "### Outdoor events"
      ],
      "text/plain": [
       "<IPython.core.display.Markdown object>"
      ]
     },
     "metadata": {},
     "output_type": "display_data"
    },
    {
     "data": {
      "text/markdown": [
       "Events and outdoor activities in local parks and public open spaces may be organised by the council.  These may be available to local residents, schools or other organisations and are aimed at promoting the facilities of the local area and providing education and enjoyment for all. (Placemaking)"
      ],
      "text/plain": [
       "<IPython.core.display.Markdown object>"
      ]
     },
     "metadata": {},
     "output_type": "display_data"
    },
    {
     "data": {
      "text/markdown": [
       "### Park and ride"
      ],
      "text/plain": [
       "<IPython.core.display.Markdown object>"
      ]
     },
     "metadata": {},
     "output_type": "display_data"
    },
    {
     "data": {
      "text/markdown": [
       "A local authority may provide park and ride facilities, which enable commuters to leave their personal vehicles in a designated car park and transfer to public transport facilities. (Services/Direct, Placemaking)"
      ],
      "text/plain": [
       "<IPython.core.display.Markdown object>"
      ]
     },
     "metadata": {},
     "output_type": "display_data"
    },
    {
     "data": {
      "text/markdown": [
       "### Parking permits"
      ],
      "text/plain": [
       "<IPython.core.display.Markdown object>"
      ]
     },
     "metadata": {},
     "output_type": "display_data"
    },
    {
     "data": {
      "text/markdown": [
       "Issuing of parking permits to residents who keep and use a car, a van or motorcycle on a full-time basis within a controlled parking zone.  Businesses operating within a controlled zone area may also qualify for permits. (Regulation/Data, Placemaking)"
      ],
      "text/plain": [
       "<IPython.core.display.Markdown object>"
      ]
     },
     "metadata": {},
     "output_type": "display_data"
    },
    {
     "data": {
      "text/markdown": [
       "### Parking zones"
      ],
      "text/plain": [
       "<IPython.core.display.Markdown object>"
      ]
     },
     "metadata": {},
     "output_type": "display_data"
    },
    {
     "data": {
      "text/markdown": [
       "A controlled parking scheme in a street or area where parking is organised in order to help residents park their vehicles. (Regulation/Data, Placemaking)"
      ],
      "text/plain": [
       "<IPython.core.display.Markdown object>"
      ]
     },
     "metadata": {},
     "output_type": "display_data"
    },
    {
     "data": {
      "text/markdown": [
       "### Parks and open space maintenance and landscaping"
      ],
      "text/plain": [
       "<IPython.core.display.Markdown object>"
      ]
     },
     "metadata": {},
     "output_type": "display_data"
    },
    {
     "data": {
      "text/markdown": [
       "Established standards of horticultural landscaping and maintenance for local parks and open spaces. This includes grass cutting, shrub/flower beds, sports pitches, weed control etc. (Placemaking)"
      ],
      "text/plain": [
       "<IPython.core.display.Markdown object>"
      ]
     },
     "metadata": {},
     "output_type": "display_data"
    },
    {
     "data": {
      "text/markdown": [
       "### Parks and open spaces"
      ],
      "text/plain": [
       "<IPython.core.display.Markdown object>"
      ]
     },
     "metadata": {},
     "output_type": "display_data"
    },
    {
     "data": {
      "text/markdown": [
       "Information about parks in the local area including location, facilities, opening times, events etc. (Placemaking)"
      ],
      "text/plain": [
       "<IPython.core.display.Markdown object>"
      ]
     },
     "metadata": {},
     "output_type": "display_data"
    },
    {
     "data": {
      "text/markdown": [
       "### Performance measurement and reporting"
      ],
      "text/plain": [
       "<IPython.core.display.Markdown object>"
      ]
     },
     "metadata": {},
     "output_type": "display_data"
    },
    {
     "data": {
      "text/markdown": [
       "Collection and publish a range of performance indicators reflecting the services the authority provides. The indicators may be verified by an external auditor. (Regulation/Data, Placemaking)"
      ],
      "text/plain": [
       "<IPython.core.display.Markdown object>"
      ]
     },
     "metadata": {},
     "output_type": "display_data"
    },
    {
     "data": {
      "text/markdown": [
       "### Planned transport service changes"
      ],
      "text/plain": [
       "<IPython.core.display.Markdown object>"
      ]
     },
     "metadata": {},
     "output_type": "display_data"
    },
    {
     "data": {
      "text/markdown": [
       "Notification to the public (and usually to the local authority) of planned changes to services (routes and timetables) of local public transport. (Placemaking)"
      ],
      "text/plain": [
       "<IPython.core.display.Markdown object>"
      ]
     },
     "metadata": {},
     "output_type": "display_data"
    },
    {
     "data": {
      "text/markdown": [
       "### Planning consultation"
      ],
      "text/plain": [
       "<IPython.core.display.Markdown object>"
      ]
     },
     "metadata": {},
     "output_type": "display_data"
    },
    {
     "data": {
      "text/markdown": [
       "The involvement of the public in the planning process. When planning applications are submitted there is a comprehensive system in place which ensures that proposals are publicised in order to invite comments from the local community. Where a development may be controversial a public enquiry may be held. (Regulation/Data, Placemaking)"
      ],
      "text/plain": [
       "<IPython.core.display.Markdown object>"
      ]
     },
     "metadata": {},
     "output_type": "display_data"
    },
    {
     "data": {
      "text/markdown": [
       "### Planning decision notices"
      ],
      "text/plain": [
       "<IPython.core.display.Markdown object>"
      ]
     },
     "metadata": {},
     "output_type": "display_data"
    },
    {
     "data": {
      "text/markdown": [
       "The local authority is required to issue a formal decision notice on all planning applications.  Notices should clearly state whether planning permission is granted or refused and should also provide the applicant with information on how to appeal any decision. (Services/Direct, Placemaking)"
      ],
      "text/plain": [
       "<IPython.core.display.Markdown object>"
      ]
     },
     "metadata": {},
     "output_type": "display_data"
    },
    {
     "data": {
      "text/markdown": [
       "### Play streets"
      ],
      "text/plain": [
       "<IPython.core.display.Markdown object>"
      ]
     },
     "metadata": {},
     "output_type": "display_data"
    },
    {
     "data": {
      "text/markdown": [
       "Certain roads may be designated as children's play areas. Such roads may be closed to vehicles permanently or at certain times of day. Where roads are not closed they may be subject to reduced speed limits and traffic may have to give priority to children and pedestrians. (Regulation/Data, Placemaking)"
      ],
      "text/plain": [
       "<IPython.core.display.Markdown object>"
      ]
     },
     "metadata": {},
     "output_type": "display_data"
    },
    {
     "data": {
      "text/markdown": [
       "### Post-incident support"
      ],
      "text/plain": [
       "<IPython.core.display.Markdown object>"
      ]
     },
     "metadata": {},
     "output_type": "display_data"
    },
    {
     "data": {
      "text/markdown": [
       "Providing advice and support to residents or businesses who have suffered damage to their property following a fire, flood or similar incident.  This may include advice on ventilation, drying out, cleaning, insurance matters etc. (Services/Direct, Placemaking)"
      ],
      "text/plain": [
       "<IPython.core.display.Markdown object>"
      ]
     },
     "metadata": {},
     "output_type": "display_data"
    },
    {
     "data": {
      "text/markdown": [
       "### Private landlord support"
      ],
      "text/plain": [
       "<IPython.core.display.Markdown object>"
      ]
     },
     "metadata": {},
     "output_type": "display_data"
    },
    {
     "data": {
      "text/markdown": [
       "Provision of information and support to anyone who is providing property for rent in the local area.  (Placemaking)"
      ],
      "text/plain": [
       "<IPython.core.display.Markdown object>"
      ]
     },
     "metadata": {},
     "output_type": "display_data"
    },
    {
     "data": {
      "text/markdown": [
       "### Public health strategic needs assessment"
      ],
      "text/plain": [
       "<IPython.core.display.Markdown object>"
      ]
     },
     "metadata": {},
     "output_type": "display_data"
    },
    {
     "data": {
      "text/markdown": [
       "An assessment of the current and future health and social care needs of the local community.  A joint strategic health assessment is carried out by the local authority and their partners in public health and should consider wider factors that impact on their communities health and wellbeing, and local assets that can help to improve outcomes and reduce inequalities (Placemaking)"
      ],
      "text/plain": [
       "<IPython.core.display.Markdown object>"
      ]
     },
     "metadata": {},
     "output_type": "display_data"
    },
    {
     "data": {
      "text/markdown": [
       "### Public rights of way"
      ],
      "text/plain": [
       "<IPython.core.display.Markdown object>"
      ]
     },
     "metadata": {},
     "output_type": "display_data"
    },
    {
     "data": {
      "text/markdown": [
       "Advice and information about the location and status of public rights of way within the local area.  These may be local rights of way or sections of national networks such as the 'National Cycling Network' or long-distance footpaths. (Placemaking)"
      ],
      "text/plain": [
       "<IPython.core.display.Markdown object>"
      ]
     },
     "metadata": {},
     "output_type": "display_data"
    },
    {
     "data": {
      "text/markdown": [
       "### Publications"
      ],
      "text/plain": [
       "<IPython.core.display.Markdown object>"
      ]
     },
     "metadata": {},
     "output_type": "display_data"
    },
    {
     "data": {
      "text/markdown": [
       "Provision of official publications about the council and the surrounding area.  This may include information about the council and its services or may be more general information about local attractions, accommodation, events etc. in the surrounding area. (Placemaking)"
      ],
      "text/plain": [
       "<IPython.core.display.Markdown object>"
      ]
     },
     "metadata": {},
     "output_type": "display_data"
    },
    {
     "data": {
      "text/markdown": [
       "### Real time transport information"
      ],
      "text/plain": [
       "<IPython.core.display.Markdown object>"
      ]
     },
     "metadata": {},
     "output_type": "display_data"
    },
    {
     "data": {
      "text/markdown": [
       "Provision of real time information on operating public transport.  E.g. Finding out the time of the next bus using the Internet, SMS or WAP (Placemaking)"
      ],
      "text/plain": [
       "<IPython.core.display.Markdown object>"
      ]
     },
     "metadata": {},
     "output_type": "display_data"
    },
    {
     "data": {
      "text/markdown": [
       "### Recycling advice and initiatives"
      ],
      "text/plain": [
       "<IPython.core.display.Markdown object>"
      ]
     },
     "metadata": {},
     "output_type": "display_data"
    },
    {
     "data": {
      "text/markdown": [
       "General information about waste, recycling, greener alternatives, how to reduce waste and provide access and information about organisations who may provide associated services (reducing junk mail, furniture reselling etc.) (Placemaking)"
      ],
      "text/plain": [
       "<IPython.core.display.Markdown object>"
      ]
     },
     "metadata": {},
     "output_type": "display_data"
    },
    {
     "data": {
      "text/markdown": [
       "### Regeneration projects"
      ],
      "text/plain": [
       "<IPython.core.display.Markdown object>"
      ]
     },
     "metadata": {},
     "output_type": "display_data"
    },
    {
     "data": {
      "text/markdown": [
       "The purpose of regeneration is to improve the social, economic, physical and environmental wellbeing of our local communities. Regeneration programmes are groups of projects, which work together to make this happen. Examples of these might be a programme to help new businesses get started across the council area or programme to reduce crime in particular communities. (Placemaking)"
      ],
      "text/plain": [
       "<IPython.core.display.Markdown object>"
      ]
     },
     "metadata": {},
     "output_type": "display_data"
    },
    {
     "data": {
      "text/markdown": [
       "### Residential planning applications"
      ],
      "text/plain": [
       "<IPython.core.display.Markdown object>"
      ]
     },
     "metadata": {},
     "output_type": "display_data"
    },
    {
     "data": {
      "text/markdown": [
       "If a resident is thinking of making alterations to their house/flat they will need to consult the planning section to see if they require planning permission. Applicants will need planning permission if the applicant's property is a listed building, if the applicant is planning to alter or extend their home, if there is a change of use (working from home) and no longer a main home or if the applicant is interested in putting up a new home. \r\n",
       "In the UK, if planning permission is required, the resident must fill in the Standard Planning Application Form (1APP) and meet all of the Planning Application Requirements (PAR). (Regulation/Data, Placemaking)"
      ],
      "text/plain": [
       "<IPython.core.display.Markdown object>"
      ]
     },
     "metadata": {},
     "output_type": "display_data"
    },
    {
     "data": {
      "text/markdown": [
       "### Rights of way enforcement"
      ],
      "text/plain": [
       "<IPython.core.display.Markdown object>"
      ]
     },
     "metadata": {},
     "output_type": "display_data"
    },
    {
     "data": {
      "text/markdown": [
       "It is the responsibility of the local authority to ensure that public rights of way are kept clear of obstructions and that landowners meet their responsibilities in this respect.  The local authority should offer advice and where appropriate take action over blocked or disputed public rights of way. (Services/Direct, Placemaking)"
      ],
      "text/plain": [
       "<IPython.core.display.Markdown object>"
      ]
     },
     "metadata": {},
     "output_type": "display_data"
    },
    {
     "data": {
      "text/markdown": [
       "### Road construction"
      ],
      "text/plain": [
       "<IPython.core.display.Markdown object>"
      ]
     },
     "metadata": {},
     "output_type": "display_data"
    },
    {
     "data": {
      "text/markdown": [
       "Where the local authority is the highway authority for an area they can construct new roads where this is required as part of a road improvement scheme or to support new developments  The council will typically have a road construction strategy and publish standards with which any new road needs to comply. (Services/Direct, Placemaking)"
      ],
      "text/plain": [
       "<IPython.core.display.Markdown object>"
      ]
     },
     "metadata": {},
     "output_type": "display_data"
    },
    {
     "data": {
      "text/markdown": [
       "### Road surveys"
      ],
      "text/plain": [
       "<IPython.core.display.Markdown object>"
      ]
     },
     "metadata": {},
     "output_type": "display_data"
    },
    {
     "data": {
      "text/markdown": [
       "The council is responsible for carrying out repairs and for administering highway legislation. This includes planned and emergency maintenance, surveys and street works (Regulation/Data, Placemaking)"
      ],
      "text/plain": [
       "<IPython.core.display.Markdown object>"
      ]
     },
     "metadata": {},
     "output_type": "display_data"
    },
    {
     "data": {
      "text/markdown": [
       "### Scientific services"
      ],
      "text/plain": [
       "<IPython.core.display.Markdown object>"
      ]
     },
     "metadata": {},
     "output_type": "display_data"
    },
    {
     "data": {
      "text/markdown": [
       "The fundamental purpose of the Scientific Service is to protect the public from unfair or unsafe trade practices and to promote good health and clean environment for the benefit of local citizens and businesses.  The Service provides a scientific advisory and analytical service, of a quality acceptable to UK Government and the EC.  The service operates in four key areas - food standards, consumer safety, environmental protection and health and safety at work. (Placemaking)"
      ],
      "text/plain": [
       "<IPython.core.display.Markdown object>"
      ]
     },
     "metadata": {},
     "output_type": "display_data"
    },
    {
     "data": {
      "text/markdown": [
       "### Service delivery consultation"
      ],
      "text/plain": [
       "<IPython.core.display.Markdown object>"
      ]
     },
     "metadata": {},
     "output_type": "display_data"
    },
    {
     "data": {
      "text/markdown": [
       "Consulting with individuals and businesses to ensure that services meet the needs of customers.  This allows service users and other interested parties to have opportunities to be involved in planning, prioritising and monitoring of services. It also gives customers an opportunity to see all consultation activity, both current and in the past. (Placemaking)"
      ],
      "text/plain": [
       "<IPython.core.display.Markdown object>"
      ]
     },
     "metadata": {},
     "output_type": "display_data"
    },
    {
     "data": {
      "text/markdown": [
       "### Social housing policy"
      ],
      "text/plain": [
       "<IPython.core.display.Markdown object>"
      ]
     },
     "metadata": {},
     "output_type": "display_data"
    },
    {
     "data": {
      "text/markdown": [
       "The needs, resources, options and priorities for housing in the borough (Placemaking)"
      ],
      "text/plain": [
       "<IPython.core.display.Markdown object>"
      ]
     },
     "metadata": {},
     "output_type": "display_data"
    },
    {
     "data": {
      "text/markdown": [
       "### Spatial development strategy"
      ],
      "text/plain": [
       "<IPython.core.display.Markdown object>"
      ]
     },
     "metadata": {},
     "output_type": "display_data"
    },
    {
     "data": {
      "text/markdown": [
       "Spatial development strategies are prepared by an elected Mayor or a Combined Authority. They provide strategic policies for the development and use of land in the area they cover. (Placemaking)"
      ],
      "text/plain": [
       "<IPython.core.display.Markdown object>"
      ]
     },
     "metadata": {},
     "output_type": "display_data"
    },
    {
     "data": {
      "text/markdown": [
       "### Spending plans consultation"
      ],
      "text/plain": [
       "<IPython.core.display.Markdown object>"
      ]
     },
     "metadata": {},
     "output_type": "display_data"
    },
    {
     "data": {
      "text/markdown": [
       "Arrangement of  public meetings or other means by which citizens can be consulted on budget plans for the forthcoming year.  Previous consultations may be published or available for view on request. (Placemaking)"
      ],
      "text/plain": [
       "<IPython.core.display.Markdown object>"
      ]
     },
     "metadata": {},
     "output_type": "display_data"
    },
    {
     "data": {
      "text/markdown": [
       "### Statutory development plans"
      ],
      "text/plain": [
       "<IPython.core.display.Markdown object>"
      ]
     },
     "metadata": {},
     "output_type": "display_data"
    },
    {
     "data": {
      "text/markdown": [
       "Development plans focus on land use development and protection set within the context of wider social, economic and environmental trends and considerations. (Placemaking)"
      ],
      "text/plain": [
       "<IPython.core.display.Markdown object>"
      ]
     },
     "metadata": {},
     "output_type": "display_data"
    },
    {
     "data": {
      "text/markdown": [
       "### Stopping up orders"
      ],
      "text/plain": [
       "<IPython.core.display.Markdown object>"
      ]
     },
     "metadata": {},
     "output_type": "display_data"
    },
    {
     "data": {
      "text/markdown": [
       "Roads may be closed permanently either because they are not necessary, a better route will replace it or to allow a new development with planning permission to be built. (Regulation/Data, Placemaking)"
      ],
      "text/plain": [
       "<IPython.core.display.Markdown object>"
      ]
     },
     "metadata": {},
     "output_type": "display_data"
    },
    {
     "data": {
      "text/markdown": [
       "### Surface water management plans"
      ],
      "text/plain": [
       "<IPython.core.display.Markdown object>"
      ]
     },
     "metadata": {},
     "output_type": "display_data"
    },
    {
     "data": {
      "text/markdown": [
       "A Surface Water Management Plan (SWMP) is a plan which outlines the preferred surface water management strategy in a given location. In this context surface water that occurs as a result of heavy rainfall describes flooding from sewers, drains, groundwater, and runoff from land, small water courses and ditches (Placemaking)"
      ],
      "text/plain": [
       "<IPython.core.display.Markdown object>"
      ]
     },
     "metadata": {},
     "output_type": "display_data"
    },
    {
     "data": {
      "text/markdown": [
       "### Sustainable development"
      ],
      "text/plain": [
       "<IPython.core.display.Markdown object>"
      ]
     },
     "metadata": {},
     "output_type": "display_data"
    },
    {
     "data": {
      "text/markdown": [
       "Local authorities are charged with providing leadership on sustainable development. This might include promoting recycling and green initiatives, and providing information and advice. (Placemaking)"
      ],
      "text/plain": [
       "<IPython.core.display.Markdown object>"
      ]
     },
     "metadata": {},
     "output_type": "display_data"
    },
    {
     "data": {
      "text/markdown": [
       "### Taxi ranks"
      ],
      "text/plain": [
       "<IPython.core.display.Markdown object>"
      ]
     },
     "metadata": {},
     "output_type": "display_data"
    },
    {
     "data": {
      "text/markdown": [
       "Provision of designated taxi ranks at key areas within the authority boundaries.  Taxi ranks should be sited so that passengers board or alight from the taxi onto the footway on the nearside of the vehicle. (Regulation/Data, Placemaking)"
      ],
      "text/plain": [
       "<IPython.core.display.Markdown object>"
      ]
     },
     "metadata": {},
     "output_type": "display_data"
    },
    {
     "data": {
      "text/markdown": [
       "### Tenant participation"
      ],
      "text/plain": [
       "<IPython.core.display.Markdown object>"
      ]
     },
     "metadata": {},
     "output_type": "display_data"
    },
    {
     "data": {
      "text/markdown": [
       "Tenant participation is the full involvement of tenants in how their homes and estates are managed, with the aim of improving housing services and improving the quality of life in local communities. (Placemaking)"
      ],
      "text/plain": [
       "<IPython.core.display.Markdown object>"
      ]
     },
     "metadata": {},
     "output_type": "display_data"
    },
    {
     "data": {
      "text/markdown": [
       "### Traffic schemes"
      ],
      "text/plain": [
       "<IPython.core.display.Markdown object>"
      ]
     },
     "metadata": {},
     "output_type": "display_data"
    },
    {
     "data": {
      "text/markdown": [
       "The local authority is responsible for proposing and implementing traffic schemes to reduce road accidents and congestion on roads in the local area.  Local residents/businesses may apply to the authority for a review of traffic where they believe there is a problem. (Regulation/Data, Placemaking)"
      ],
      "text/plain": [
       "<IPython.core.display.Markdown object>"
      ]
     },
     "metadata": {},
     "output_type": "display_data"
    },
    {
     "data": {
      "text/markdown": [
       "### Transport policy"
      ],
      "text/plain": [
       "<IPython.core.display.Markdown object>"
      ]
     },
     "metadata": {},
     "output_type": "display_data"
    },
    {
     "data": {
      "text/markdown": [
       "A costed and affordable 5-year implementation programme of schemes and policy measures to improve transport in the local area.  The plan should contain a set of targets and performance indicators and other outputs which can be used to assess whether the plan is delivering its objectives. (Placemaking)"
      ],
      "text/plain": [
       "<IPython.core.display.Markdown object>"
      ]
     },
     "metadata": {},
     "output_type": "display_data"
    },
    {
     "data": {
      "text/markdown": [
       "### Travel plans"
      ],
      "text/plain": [
       "<IPython.core.display.Markdown object>"
      ]
     },
     "metadata": {},
     "output_type": "display_data"
    },
    {
     "data": {
      "text/markdown": [
       "Covers the provision of information and advice to local businesses about Workplace Travel Plans, and to schools about School Travel Plans (this may include the Safe Routes to School initiative). The aim is to change modes of transport to work and school, to reduce environmental impact while improving personal safety and health (Placemaking)"
      ],
      "text/plain": [
       "<IPython.core.display.Markdown object>"
      ]
     },
     "metadata": {},
     "output_type": "display_data"
    },
    {
     "data": {
      "text/markdown": [
       "### Vacant land and property"
      ],
      "text/plain": [
       "<IPython.core.display.Markdown object>"
      ]
     },
     "metadata": {},
     "output_type": "display_data"
    },
    {
     "data": {
      "text/markdown": [
       "Information and advice on vacant industrial/office/retail/land and development opportunities in the area. (Placemaking)"
      ],
      "text/plain": [
       "<IPython.core.display.Markdown object>"
      ]
     },
     "metadata": {},
     "output_type": "display_data"
    },
    {
     "data": {
      "text/markdown": [
       "### Waste local plan"
      ],
      "text/plain": [
       "<IPython.core.display.Markdown object>"
      ]
     },
     "metadata": {},
     "output_type": "display_data"
    },
    {
     "data": {
      "text/markdown": [
       "A Waste Local Plan is a statutory plan that addresses the land-use aspects of waste management. It deals with all waste managed in the area including that generated by businesses and the construction industry in addition to that produced by households. \r\n",
       "In Scotland National Policy Planning Guideline 10 (NPPG 10) establishes that the land use implications of waste management will be addressed by an area's local plan(s) and that policy will incorporate the objectives of the National and Area Waste Strategy. (Placemaking)"
      ],
      "text/plain": [
       "<IPython.core.display.Markdown object>"
      ]
     },
     "metadata": {},
     "output_type": "display_data"
    },
    {
     "data": {
      "text/markdown": [
       "### Waste reduction"
      ],
      "text/plain": [
       "<IPython.core.display.Markdown object>"
      ]
     },
     "metadata": {},
     "output_type": "display_data"
    },
    {
     "data": {
      "text/markdown": [
       "Waste reduction is a priority in most administrative areas and there are usually government backed initiatives to achieve waste reduction and recycling targets.  In the UK nappy waste prevention is prioritised in the government's Waste Implementation Programme (WIP), May 2003. The real nappy campaign and home composting have been chosen to lead the government's waste reduction strategy. (Placemaking)"
      ],
      "text/plain": [
       "<IPython.core.display.Markdown object>"
      ]
     },
     "metadata": {},
     "output_type": "display_data"
    },
    {
     "data": {
      "text/markdown": [
       "### Water network extensions"
      ],
      "text/plain": [
       "<IPython.core.display.Markdown object>"
      ]
     },
     "metadata": {},
     "output_type": "display_data"
    },
    {
     "data": {
      "text/markdown": [
       "Undertaking risk assessment of any planned extensions to the water network in the local area. (Placemaking)"
      ],
      "text/plain": [
       "<IPython.core.display.Markdown object>"
      ]
     },
     "metadata": {},
     "output_type": "display_data"
    },
    {
     "data": {
      "text/markdown": [
       "### Workplace parking levy"
      ],
      "text/plain": [
       "<IPython.core.display.Markdown object>"
      ]
     },
     "metadata": {},
     "output_type": "display_data"
    },
    {
     "data": {
      "text/markdown": [
       "Employers that provide workplace parking places may be required to get a workplace parking levy licence and, where applicable, pay a charge, as part of the workplace parking levy (WPL) congestion charging scheme. (Placemaking)"
      ],
      "text/plain": [
       "<IPython.core.display.Markdown object>"
      ]
     },
     "metadata": {},
     "output_type": "display_data"
    },
    {
     "data": {
      "text/markdown": [
       "### Yellow lines"
      ],
      "text/plain": [
       "<IPython.core.display.Markdown object>"
      ]
     },
     "metadata": {},
     "output_type": "display_data"
    },
    {
     "data": {
      "text/markdown": [
       "The local authority authorise yellow line road marking where there is a need to restrict parking to help increase traffic flow and to prevent obstructions on the highway. (Regulation/Data, Placemaking)"
      ],
      "text/plain": [
       "<IPython.core.display.Markdown object>"
      ]
     },
     "metadata": {},
     "output_type": "display_data"
    }
   ],
   "source": [
    "\n",
    "comma = \", \".join\n",
    "\n",
    "for s in service_types:\n",
    "    display(md(f\"## {s}\"))\n",
    "    for index, row in df[df[s] == 1].iterrows():\n",
    "        display(md(f\"### {row.Label}\"))\n",
    "        display(md(f\"{row.Description} ({comma(row.types)})\"))"
   ]
  }
 ],
 "metadata": {
  "interpreter": {
   "hash": "4cd7ab41f5fca4b9b44701077e38c5ffd31fe66a6cab21e0214b68d958d0e462"
  },
  "kernelspec": {
   "display_name": "Python 3 (ipykernel)",
   "language": "python",
   "name": "python3"
  },
  "language_info": {
   "codemirror_mode": {
    "name": "ipython",
    "version": 3
   },
   "file_extension": ".py",
   "mimetype": "text/x-python",
   "name": "python",
   "nbconvert_exporter": "python",
   "pygments_lexer": "ipython3",
   "version": "3.8.12"
  },
  "orig_nbformat": 2
 },
 "nbformat": 4,
 "nbformat_minor": 2
}
